{
 "cells": [
  {
   "cell_type": "code",
   "execution_count": 35,
   "metadata": {},
   "outputs": [],
   "source": [
    "import tensorflow as tf\n",
    "import tensorflow_models as tfm\n",
    "import time\n",
    "from object_detection.utils import label_map_util\n",
    "from object_detection.utils import config_util\n",
    "from object_detection.utils import visualization_utils as viz_utils\n",
    "from object_detection.builders import model_builder"
   ]
  },
  {
   "cell_type": "code",
   "execution_count": 36,
   "metadata": {},
   "outputs": [],
   "source": [
    "# Enable GPU dynamic memory allocation\n",
    "gpus = tf.config.experimental.list_physical_devices('GPU')\n",
    "for gpu in gpus:\n",
    "    tf.config.experimental.set_memory_growth(gpu, True)"
   ]
  },
  {
   "cell_type": "markdown",
   "metadata": {},
   "source": []
  },
  {
   "cell_type": "code",
   "execution_count": 37,
   "metadata": {},
   "outputs": [],
   "source": [
    "#model_name = \"my_ssd_mobilenet_v1_fpn_640x640_coco17_tpu-8\"\n",
    "#model_name = \"my_ssd_resnet50_v1_fpn\"\n",
    "model_name = \"my_ssd_resnet50_v1_fpn_exported\"\n",
    "#model_name = \"my_ssd_mobilenet_v2_fpnlite_640x640_coco17_tpu-8\"\n",
    "#model_name = \"my_ssd_resnet152_v1_fpn_640x640_coco17_tpu-8\"\n",
    "#model_name = \"my_ssd_resnet101_v1_fpn_640x640_coco17_tpu-8\"\n",
    "\n",
    "images_path = f\"TensorFlow/workspace/training_demo/images\"\n",
    "model_path = f\"TensorFlow/workspace/training_demo/models/{model_name}\"\n",
    "exported_model_path = f\"TensorFlow/workspace/training_demo/exported-models/\"\n",
    "\n",
    "ckpt_dict = {\"my_ssd_resnet50_v1_fpn\":'/ckpt-31',\n",
    "                    \"my_ssd_resnet101_v1_fpn_640x640_coco17_tpu-8\":\"/ckpt-28\",\n",
    "                    \"my_ssd_resnet152_v1_fpn_640x640_coco17_tpu-8\":\"/ckpt-26\",\n",
    "                    \"my_ssd_mobilenet_v1_fpn_640x640_coco17_tpu-8\":\"/ckpt-26\",\n",
    "                    \"my_ssd_mobilenet_v2_fpnlite_640x640_coco17_tpu-8\": \"/ckpt-51\"}"
   ]
  },
  {
   "cell_type": "markdown",
   "metadata": {},
   "source": [
    "#### Load Teacher Model"
   ]
  },
  {
   "cell_type": "code",
   "execution_count": 38,
   "metadata": {},
   "outputs": [
    {
     "name": "stdout",
     "output_type": "stream",
     "text": [
      "[Loading TF2 Saved Model]\n",
      "Loading model - my_ssd_resnet50_v1_fpn_exported...\n",
      "The model has been loaded - 23.73s\n",
      "\n"
     ]
    }
   ],
   "source": [
    "if model_name[-9:] == \"_exported\":\n",
    "    print(\"[Loading TF2 Saved Model]\")\n",
    "    print(f'Loading model - {model_name}...')\n",
    "    start_time = time.time()\n",
    "\n",
    "    teacher_model = tf.saved_model.load(exported_model_path + f\"{model_name}/saved_model\")\n",
    "\n",
    "    end_time = time.time()\n",
    "    elapsed_time = end_time - start_time\n",
    "    print(f'The model has been loaded - {elapsed_time:.2f}s\\n')\n",
    "else:\n",
    "    tf.get_logger().setLevel('ERROR')           # Suppress TensorFlow logging (2)\n",
    "    print(\"[Loading TF2 Checkpoint]\")\n",
    "    print(f'\\nLoading model - {model_name}...')\n",
    "    start_time = time.time()\n",
    "\n",
    "    # Load pipeline config and build a detection model\n",
    "    configs = config_util.get_configs_from_pipeline_file(model_path + \"/pipeline.config\")\n",
    "    model_config = configs['model']\n",
    "\n",
    "    teacher_model = model_builder.build(model_config=model_config, is_training=False)\n",
    "\n",
    "    # Restore checkpoint\n",
    "    ckpt = tf.compat.v2.train.Checkpoint(model=teacher_model)\n",
    "    ckpt.restore(model_path + ckpt_dict[model_name]).expect_partial()\n",
    "\n",
    "    end_time = time.time()\n",
    "    elapsed_time = end_time - start_time\n",
    "    print(f'The model has been loaded - {elapsed_time:.2f}s\\n')"
   ]
  },
  {
   "cell_type": "markdown",
   "metadata": {},
   "source": [
    "#### Student model"
   ]
  },
  {
   "cell_type": "code",
   "execution_count": 39,
   "metadata": {},
   "outputs": [
    {
     "data": {
      "text/plain": [
       "<official.vision.modeling.backbones.mobilenet.MobileNet at 0x7fbae7281ca0>"
      ]
     },
     "execution_count": 39,
     "metadata": {},
     "output_type": "execute_result"
    }
   ],
   "source": [
    "student_model = tfm.vision.backbones.MobileNet()"
   ]
  },
  {
   "cell_type": "code",
   "execution_count": null,
   "metadata": {},
   "outputs": [],
   "source": [
    "class Distiller(tf.keras.Model):\n",
    "    def __init__(self, student, teacher):\n",
    "        super().__init__()\n",
    "        self.student = student\n",
    "        self.teacher = teacher\n",
    "        self.loss_tracker = keras.metrics.Mean(name=\"distillation_loss\")\n",
    "\n",
    "    @property\n",
    "    def metrics(self):\n",
    "        metrics = super().metrics\n",
    "        metrics.append(self.loss_tracker)\n",
    "        return metrics\n",
    "\n",
    "    def compile(\n",
    "        self, optimizer, metrics, distillation_loss_fn, temperature=TEMPERATURE,\n",
    "    ):\n",
    "        super().compile(optimizer=optimizer, metrics=metrics)\n",
    "        self.distillation_loss_fn = distillation_loss_fn\n",
    "        self.temperature = temperature\n",
    "\n",
    "    def train_step(self, data):\n",
    "        # Unpack data\n",
    "        x, _ = data\n",
    "\n",
    "        # Forward pass of teacher\n",
    "        teacher_predictions = self.teacher(x, training=False)\n",
    "\n",
    "        with tf.GradientTape() as tape:\n",
    "            # Forward pass of student\n",
    "            student_predictions = self.student(x, training=True)\n",
    "\n",
    "            # Compute loss\n",
    "            distillation_loss = self.distillation_loss_fn(\n",
    "                tf.nn.softmax(teacher_predictions / self.temperature, axis=1),\n",
    "                tf.nn.softmax(student_predictions / self.temperature, axis=1),\n",
    "            )\n",
    "\n",
    "        # Compute gradients\n",
    "        trainable_vars = self.student.trainable_variables\n",
    "        gradients = tape.gradient(distillation_loss, trainable_vars)\n",
    "\n",
    "        # Update weights\n",
    "        self.optimizer.apply_gradients(zip(gradients, trainable_vars))\n",
    "\n",
    "        # Report progress\n",
    "        self.loss_tracker.update_state(distillation_loss)\n",
    "        return {\"distillation_loss\": self.loss_tracker.result()}\n",
    "\n",
    "    def test_step(self, data):\n",
    "        # Unpack data\n",
    "        x, y = data\n",
    "\n",
    "        # Forward passes\n",
    "        teacher_predictions = self.teacher(x, training=False)\n",
    "        student_predictions = self.student(x, training=False)\n",
    "\n",
    "        # Calculate the loss\n",
    "        distillation_loss = self.distillation_loss_fn(\n",
    "            tf.nn.softmax(teacher_predictions / self.temperature, axis=1),\n",
    "            tf.nn.softmax(student_predictions / self.temperature, axis=1),\n",
    "        )\n",
    "\n",
    "        # Report progress\n",
    "        self.loss_tracker.update_state(distillation_loss)\n",
    "        self.compiled_metrics.update_state(y, student_predictions)\n",
    "        results = {m.name: m.result() for m in self.metrics}\n",
    "        return results"
   ]
  }
 ],
 "metadata": {
  "kernelspec": {
   "display_name": "tf_od",
   "language": "python",
   "name": "python3"
  },
  "language_info": {
   "codemirror_mode": {
    "name": "ipython",
    "version": 3
   },
   "file_extension": ".py",
   "mimetype": "text/x-python",
   "name": "python",
   "nbconvert_exporter": "python",
   "pygments_lexer": "ipython3",
   "version": "3.9.18"
  }
 },
 "nbformat": 4,
 "nbformat_minor": 2
}
