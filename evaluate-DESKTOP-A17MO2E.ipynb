{
 "cells": [
  {
   "cell_type": "markdown",
   "metadata": {},
   "source": [
    "# Generowanie metryk\n",
    "To według jakie metryki zostaną użyte zależy od tego co ustawiliśmy w pipeline.config"
   ]
  },
  {
   "cell_type": "code",
   "execution_count": 1,
   "metadata": {},
   "outputs": [
    {
     "name": "stdout",
     "output_type": "stream",
     "text": [
      "python TensorFlow/models/research/object_detection/model_main_tf2.py --model_dir=TensorFlow/workspace/training_demo/models/my_ssd_resnet50_v1_fpn_3 --pipeline_config_path=TensorFlow/workspace/training_demo/models/my_ssd_resnet50_v1_fpn_3/pipeline.config --checkpoint_dir=TensorFlow/workspace/training_demo/models/my_ssd_resnet50_v1_fpn_3\n"
     ]
    }
   ],
   "source": [
    "#model_name = \"my_ssd_mobilenet_v1_fpn_640x640_coco17_tpu-8\"\n",
    "model_name = \"my_ssd_resnet50_v1_fpn_3\"\n",
    "#model_name = \"my_ssd_mobilenet_v2_fpnlite_640x640_coco17_tpu-8\"\n",
    "#model_name = \"my_ssd_resnet152_v1_fpn_640x640_coco17_tpu-8\"\n",
    "#model_name = \"my_ssd_resnet101_v1_fpn_640x640_coco17_tpu-8\"\n",
    "#model_name = \"my_ssd_resnet101_v1_fpn_640x640_coco17_tpu-8_2\"\n",
    "#model_name = \"my_ssd_resnet152_v1_fpn_640x640_coco17_tpu-8_4\"\n",
    "\n",
    "#model_name = \"my_ssd_resnet50_v1_fpn\"\n",
    "#model_name = \"my_ssd_resnet152_v1_fpn_640x640_coco17_tpu-8_2\"\n",
    "#model_name = \"my_ssd_mobilenet_v2_fpnlite_640x640_coco17_tpu-8\"\n",
    "#model_name = \"my_ssd_mobilenet_v1_fpn_640x640_coco17_tpu-8\"\n",
    "\n",
    "model_path = f\"TensorFlow/workspace/training_demo/models/{model_name}\"\n",
    "\n",
    "eval_command = f\"python TensorFlow/models/research/object_detection/model_main_tf2.py --model_dir={model_path} --pipeline_config_path={model_path}/pipeline.config --checkpoint_dir={model_path}\"\n",
    "print(eval_command)"
   ]
  },
  {
   "cell_type": "code",
   "execution_count": 2,
   "metadata": {},
   "outputs": [
    {
     "name": "stdout",
     "output_type": "stream",
     "text": [
      "2024-07-03 16:05:08.496342: E external/local_xla/xla/stream_executor/cuda/cuda_dnn.cc:9261] Unable to register cuDNN factory: Attempting to register factory for plugin cuDNN when one has already been registered\n",
      "2024-07-03 16:05:08.496386: E external/local_xla/xla/stream_executor/cuda/cuda_fft.cc:607] Unable to register cuFFT factory: Attempting to register factory for plugin cuFFT when one has already been registered\n",
      "2024-07-03 16:05:08.497588: E external/local_xla/xla/stream_executor/cuda/cuda_blas.cc:1515] Unable to register cuBLAS factory: Attempting to register factory for plugin cuBLAS when one has already been registered\n",
      "2024-07-03 16:05:09.495458: W tensorflow/compiler/tf2tensorrt/utils/py_utils.cc:38] TF-TRT Warning: Could not find TensorRT\n",
      "2024-07-03 16:05:11.527272: I external/local_xla/xla/stream_executor/cuda/cuda_executor.cc:901] successful NUMA node read from SysFS had negative value (-1), but there must be at least one NUMA node, so returning NUMA node zero. See more at https://github.com/torvalds/linux/blob/v6.0/Documentation/ABI/testing/sysfs-bus-pci#L344-L355\n",
      "2024-07-03 16:05:11.558735: I external/local_xla/xla/stream_executor/cuda/cuda_executor.cc:901] successful NUMA node read from SysFS had negative value (-1), but there must be at least one NUMA node, so returning NUMA node zero. See more at https://github.com/torvalds/linux/blob/v6.0/Documentation/ABI/testing/sysfs-bus-pci#L344-L355\n",
      "2024-07-03 16:05:11.558954: I external/local_xla/xla/stream_executor/cuda/cuda_executor.cc:901] successful NUMA node read from SysFS had negative value (-1), but there must be at least one NUMA node, so returning NUMA node zero. See more at https://github.com/torvalds/linux/blob/v6.0/Documentation/ABI/testing/sysfs-bus-pci#L344-L355\n",
      "WARNING:tensorflow:Forced number of epochs for all eval validations to be 1.\n",
      "W0703 16:05:11.562770 133138477803328 model_lib_v2.py:1097] Forced number of epochs for all eval validations to be 1.\n",
      "INFO:tensorflow:Maybe overwriting sample_1_of_n_eval_examples: None\n",
      "I0703 16:05:11.562921 133138477803328 config_util.py:552] Maybe overwriting sample_1_of_n_eval_examples: None\n",
      "INFO:tensorflow:Maybe overwriting use_bfloat16: False\n",
      "I0703 16:05:11.562991 133138477803328 config_util.py:552] Maybe overwriting use_bfloat16: False\n",
      "INFO:tensorflow:Maybe overwriting eval_num_epochs: 1\n",
      "I0703 16:05:11.563066 133138477803328 config_util.py:552] Maybe overwriting eval_num_epochs: 1\n",
      "WARNING:tensorflow:Expected number of evaluation epochs is 1, but instead encountered `eval_on_train_input_config.num_epochs` = 0. Overwriting `num_epochs` to 1.\n",
      "W0703 16:05:11.563190 133138477803328 model_lib_v2.py:1114] Expected number of evaluation epochs is 1, but instead encountered `eval_on_train_input_config.num_epochs` = 0. Overwriting `num_epochs` to 1.\n",
      "2024-07-03 16:05:11.567319: I external/local_xla/xla/stream_executor/cuda/cuda_executor.cc:901] successful NUMA node read from SysFS had negative value (-1), but there must be at least one NUMA node, so returning NUMA node zero. See more at https://github.com/torvalds/linux/blob/v6.0/Documentation/ABI/testing/sysfs-bus-pci#L344-L355\n",
      "2024-07-03 16:05:11.567524: I external/local_xla/xla/stream_executor/cuda/cuda_executor.cc:901] successful NUMA node read from SysFS had negative value (-1), but there must be at least one NUMA node, so returning NUMA node zero. See more at https://github.com/torvalds/linux/blob/v6.0/Documentation/ABI/testing/sysfs-bus-pci#L344-L355\n",
      "2024-07-03 16:05:11.567680: I external/local_xla/xla/stream_executor/cuda/cuda_executor.cc:901] successful NUMA node read from SysFS had negative value (-1), but there must be at least one NUMA node, so returning NUMA node zero. See more at https://github.com/torvalds/linux/blob/v6.0/Documentation/ABI/testing/sysfs-bus-pci#L344-L355\n",
      "2024-07-03 16:05:11.615065: I external/local_xla/xla/stream_executor/cuda/cuda_executor.cc:901] successful NUMA node read from SysFS had negative value (-1), but there must be at least one NUMA node, so returning NUMA node zero. See more at https://github.com/torvalds/linux/blob/v6.0/Documentation/ABI/testing/sysfs-bus-pci#L344-L355\n",
      "2024-07-03 16:05:11.615322: I external/local_xla/xla/stream_executor/cuda/cuda_executor.cc:901] successful NUMA node read from SysFS had negative value (-1), but there must be at least one NUMA node, so returning NUMA node zero. See more at https://github.com/torvalds/linux/blob/v6.0/Documentation/ABI/testing/sysfs-bus-pci#L344-L355\n",
      "2024-07-03 16:05:11.615488: I external/local_xla/xla/stream_executor/cuda/cuda_executor.cc:901] successful NUMA node read from SysFS had negative value (-1), but there must be at least one NUMA node, so returning NUMA node zero. See more at https://github.com/torvalds/linux/blob/v6.0/Documentation/ABI/testing/sysfs-bus-pci#L344-L355\n",
      "2024-07-03 16:05:11.615603: I tensorflow/core/common_runtime/gpu/gpu_device.cc:1929] Created device /job:localhost/replica:0/task:0/device:GPU:0 with 3209 MB memory:  -> device: 0, name: NVIDIA GeForce GTX 970, pci bus id: 0000:01:00.0, compute capability: 5.2\n",
      "INFO:tensorflow:Reading unweighted datasets: ['TensorFlow/workspace/training_demo/annotations/test.record']\n",
      "I0703 16:05:11.706403 133138477803328 dataset_builder.py:162] Reading unweighted datasets: ['TensorFlow/workspace/training_demo/annotations/test.record']\n",
      "INFO:tensorflow:Reading record datasets for input file: ['TensorFlow/workspace/training_demo/annotations/test.record']\n",
      "I0703 16:05:11.706598 133138477803328 dataset_builder.py:79] Reading record datasets for input file: ['TensorFlow/workspace/training_demo/annotations/test.record']\n",
      "INFO:tensorflow:Number of filenames to read: 1\n",
      "I0703 16:05:11.706666 133138477803328 dataset_builder.py:80] Number of filenames to read: 1\n",
      "WARNING:tensorflow:num_readers has been reduced to 1 to match input file shards.\n",
      "W0703 16:05:11.706727 133138477803328 dataset_builder.py:86] num_readers has been reduced to 1 to match input file shards.\n",
      "WARNING:tensorflow:From /home/hapek-pc/anaconda3/envs/tf_od/lib/python3.9/site-packages/object_detection/builders/dataset_builder.py:100: parallel_interleave (from tensorflow.python.data.experimental.ops.interleave_ops) is deprecated and will be removed in a future version.\n",
      "Instructions for updating:\n",
      "Use `tf.data.Dataset.interleave(map_func, cycle_length, block_length, num_parallel_calls=tf.data.AUTOTUNE)` instead. If sloppy execution is desired, use `tf.data.Options.deterministic`.\n",
      "W0703 16:05:11.709846 133138477803328 deprecation.py:50] From /home/hapek-pc/anaconda3/envs/tf_od/lib/python3.9/site-packages/object_detection/builders/dataset_builder.py:100: parallel_interleave (from tensorflow.python.data.experimental.ops.interleave_ops) is deprecated and will be removed in a future version.\n",
      "Instructions for updating:\n",
      "Use `tf.data.Dataset.interleave(map_func, cycle_length, block_length, num_parallel_calls=tf.data.AUTOTUNE)` instead. If sloppy execution is desired, use `tf.data.Options.deterministic`.\n",
      "WARNING:tensorflow:From /home/hapek-pc/anaconda3/envs/tf_od/lib/python3.9/site-packages/object_detection/builders/dataset_builder.py:235: DatasetV1.map_with_legacy_function (from tensorflow.python.data.ops.dataset_ops) is deprecated and will be removed in a future version.\n",
      "Instructions for updating:\n",
      "Use `tf.data.Dataset.map()\n",
      "W0703 16:05:11.727780 133138477803328 deprecation.py:50] From /home/hapek-pc/anaconda3/envs/tf_od/lib/python3.9/site-packages/object_detection/builders/dataset_builder.py:235: DatasetV1.map_with_legacy_function (from tensorflow.python.data.ops.dataset_ops) is deprecated and will be removed in a future version.\n",
      "Instructions for updating:\n",
      "Use `tf.data.Dataset.map()\n",
      "WARNING:tensorflow:From /home/hapek-pc/anaconda3/envs/tf_od/lib/python3.9/site-packages/tensorflow/python/util/dispatch.py:1260: sparse_to_dense (from tensorflow.python.ops.sparse_ops) is deprecated and will be removed in a future version.\n",
      "Instructions for updating:\n",
      "Create a `tf.sparse.SparseTensor` and use `tf.sparse.to_dense` instead.\n",
      "W0703 16:05:15.913668 133138477803328 deprecation.py:50] From /home/hapek-pc/anaconda3/envs/tf_od/lib/python3.9/site-packages/tensorflow/python/util/dispatch.py:1260: sparse_to_dense (from tensorflow.python.ops.sparse_ops) is deprecated and will be removed in a future version.\n",
      "Instructions for updating:\n",
      "Create a `tf.sparse.SparseTensor` and use `tf.sparse.to_dense` instead.\n",
      "WARNING:tensorflow:From /home/hapek-pc/anaconda3/envs/tf_od/lib/python3.9/site-packages/tensorflow/python/util/dispatch.py:1260: to_float (from tensorflow.python.ops.math_ops) is deprecated and will be removed in a future version.\n",
      "Instructions for updating:\n",
      "Use `tf.cast` instead.\n",
      "W0703 16:05:17.188971 133138477803328 deprecation.py:50] From /home/hapek-pc/anaconda3/envs/tf_od/lib/python3.9/site-packages/tensorflow/python/util/dispatch.py:1260: to_float (from tensorflow.python.ops.math_ops) is deprecated and will be removed in a future version.\n",
      "Instructions for updating:\n",
      "Use `tf.cast` instead.\n",
      "INFO:tensorflow:Waiting for new checkpoint at TensorFlow/workspace/training_demo/models/my_ssd_resnet50_v1_fpn_3\n",
      "I0703 16:05:19.863932 133138477803328 checkpoint_utils.py:168] Waiting for new checkpoint at TensorFlow/workspace/training_demo/models/my_ssd_resnet50_v1_fpn_3\n",
      "INFO:tensorflow:Found new checkpoint at TensorFlow/workspace/training_demo/models/my_ssd_resnet50_v1_fpn_3/ckpt-26\n",
      "I0703 16:05:19.864937 133138477803328 checkpoint_utils.py:177] Found new checkpoint at TensorFlow/workspace/training_demo/models/my_ssd_resnet50_v1_fpn_3/ckpt-26\n",
      "/home/hapek-pc/anaconda3/envs/tf_od/lib/python3.9/site-packages/keras/src/backend.py:452: UserWarning: `tf.keras.backend.set_learning_phase` is deprecated and will be removed after 2020-10-11. To update it, simply pass a True/False value to the `training` argument of the `__call__` method of your layer or model.\n",
      "  warnings.warn(\n",
      "I0703 16:05:25.400425 133138477803328 api.py:460] feature_map_spatial_dims: [(80, 80), (40, 40), (20, 20), (10, 10), (5, 5)]\n",
      "I0703 16:05:38.534150 133138477803328 api.py:460] feature_map_spatial_dims: [(80, 80), (40, 40), (20, 20), (10, 10), (5, 5)]\n",
      "2024-07-03 16:05:42.487187: I external/local_xla/xla/stream_executor/cuda/cuda_dnn.cc:454] Loaded cuDNN version 8902\n",
      "WARNING:tensorflow:From /home/hapek-pc/anaconda3/envs/tf_od/lib/python3.9/site-packages/tensorflow/python/util/dispatch.py:1260: to_int64 (from tensorflow.python.ops.math_ops) is deprecated and will be removed in a future version.\n",
      "Instructions for updating:\n",
      "Use `tf.cast` instead.\n",
      "W0703 16:05:46.530420 133138477803328 deprecation.py:50] From /home/hapek-pc/anaconda3/envs/tf_od/lib/python3.9/site-packages/tensorflow/python/util/dispatch.py:1260: to_int64 (from tensorflow.python.ops.math_ops) is deprecated and will be removed in a future version.\n",
      "Instructions for updating:\n",
      "Use `tf.cast` instead.\n",
      "INFO:tensorflow:Finished eval step 0\n",
      "I0703 16:05:46.577090 133138477803328 model_lib_v2.py:974] Finished eval step 0\n",
      "WARNING:tensorflow:From /home/hapek-pc/anaconda3/envs/tf_od/lib/python3.9/site-packages/tensorflow/python/autograph/impl/api.py:460: py_func (from tensorflow.python.ops.script_ops) is deprecated and will be removed in a future version.\n",
      "Instructions for updating:\n",
      "tf.py_func is deprecated in TF V2. Instead, there are two\n",
      "    options available in V2.\n",
      "    - tf.py_function takes a python function which manipulates tf eager\n",
      "    tensors instead of numpy arrays. It's easy to convert a tf eager tensor to\n",
      "    an ndarray (just call tensor.numpy()) but having access to eager tensors\n",
      "    means `tf.py_function`s can use accelerators such as GPUs as well as\n",
      "    being differentiable using a gradient tape.\n",
      "    - tf.numpy_function maintains the semantics of the deprecated tf.py_func\n",
      "    (it is not differentiable, and manipulates numpy arrays). It drops the\n",
      "    stateful argument making all functions stateful.\n",
      "    \n",
      "W0703 16:05:46.757938 133138477803328 deprecation.py:50] From /home/hapek-pc/anaconda3/envs/tf_od/lib/python3.9/site-packages/tensorflow/python/autograph/impl/api.py:460: py_func (from tensorflow.python.ops.script_ops) is deprecated and will be removed in a future version.\n",
      "Instructions for updating:\n",
      "tf.py_func is deprecated in TF V2. Instead, there are two\n",
      "    options available in V2.\n",
      "    - tf.py_function takes a python function which manipulates tf eager\n",
      "    tensors instead of numpy arrays. It's easy to convert a tf eager tensor to\n",
      "    an ndarray (just call tensor.numpy()) but having access to eager tensors\n",
      "    means `tf.py_function`s can use accelerators such as GPUs as well as\n",
      "    being differentiable using a gradient tape.\n",
      "    - tf.numpy_function maintains the semantics of the deprecated tf.py_func\n",
      "    (it is not differentiable, and manipulates numpy arrays). It drops the\n",
      "    stateful argument making all functions stateful.\n",
      "    \n",
      "INFO:tensorflow:Performing evaluation on 99 images.\n",
      "I0703 16:06:01.375802 133138477803328 coco_evaluation.py:293] Performing evaluation on 99 images.\n",
      "creating index...\n",
      "index created!\n",
      "INFO:tensorflow:Loading and preparing annotation results...\n",
      "I0703 16:06:01.378219 133138477803328 coco_tools.py:116] Loading and preparing annotation results...\n",
      "INFO:tensorflow:DONE (t=0.01s)\n",
      "I0703 16:06:01.387604 133138477803328 coco_tools.py:138] DONE (t=0.01s)\n",
      "creating index...\n",
      "index created!\n",
      "Running per image evaluation...\n",
      "Evaluate annotation type *bbox*\n",
      "DONE (t=0.41s).\n",
      "Accumulating evaluation results...\n",
      "DONE (t=0.08s).\n",
      " Average Precision  (AP) @[ IoU=0.50:0.95 | area=   all | maxDets=100 ] = 0.503\n",
      " Average Precision  (AP) @[ IoU=0.50      | area=   all | maxDets=100 ] = 0.910\n",
      " Average Precision  (AP) @[ IoU=0.75      | area=   all | maxDets=100 ] = 0.437\n",
      " Average Precision  (AP) @[ IoU=0.50:0.95 | area= small | maxDets=100 ] = 0.378\n",
      " Average Precision  (AP) @[ IoU=0.50:0.95 | area=medium | maxDets=100 ] = 0.541\n",
      " Average Precision  (AP) @[ IoU=0.50:0.95 | area= large | maxDets=100 ] = 0.523\n",
      " Average Recall     (AR) @[ IoU=0.50:0.95 | area=   all | maxDets=  1 ] = 0.542\n",
      " Average Recall     (AR) @[ IoU=0.50:0.95 | area=   all | maxDets= 10 ] = 0.628\n",
      " Average Recall     (AR) @[ IoU=0.50:0.95 | area=   all | maxDets=100 ] = 0.651\n",
      " Average Recall     (AR) @[ IoU=0.50:0.95 | area= small | maxDets=100 ] = 0.578\n",
      " Average Recall     (AR) @[ IoU=0.50:0.95 | area=medium | maxDets=100 ] = 0.668\n",
      " Average Recall     (AR) @[ IoU=0.50:0.95 | area= large | maxDets=100 ] = 0.659\n",
      "INFO:tensorflow:Eval metrics at step 25000\n",
      "I0703 16:06:01.906854 133138477803328 model_lib_v2.py:1023] Eval metrics at step 25000\n",
      "INFO:tensorflow:\t+ DetectionBoxes_Precision/mAP: 0.502923\n",
      "I0703 16:06:01.914583 133138477803328 model_lib_v2.py:1026] \t+ DetectionBoxes_Precision/mAP: 0.502923\n",
      "INFO:tensorflow:\t+ DetectionBoxes_Precision/mAP@.50IOU: 0.910332\n",
      "I0703 16:06:01.916917 133138477803328 model_lib_v2.py:1026] \t+ DetectionBoxes_Precision/mAP@.50IOU: 0.910332\n",
      "INFO:tensorflow:\t+ DetectionBoxes_Precision/mAP@.75IOU: 0.436934\n",
      "I0703 16:06:01.918128 133138477803328 model_lib_v2.py:1026] \t+ DetectionBoxes_Precision/mAP@.75IOU: 0.436934\n",
      "INFO:tensorflow:\t+ DetectionBoxes_Precision/mAP (small): 0.377765\n",
      "I0703 16:06:01.919132 133138477803328 model_lib_v2.py:1026] \t+ DetectionBoxes_Precision/mAP (small): 0.377765\n",
      "INFO:tensorflow:\t+ DetectionBoxes_Precision/mAP (medium): 0.541060\n",
      "I0703 16:06:01.920439 133138477803328 model_lib_v2.py:1026] \t+ DetectionBoxes_Precision/mAP (medium): 0.541060\n",
      "INFO:tensorflow:\t+ DetectionBoxes_Precision/mAP (large): 0.523241\n",
      "I0703 16:06:01.921626 133138477803328 model_lib_v2.py:1026] \t+ DetectionBoxes_Precision/mAP (large): 0.523241\n",
      "INFO:tensorflow:\t+ DetectionBoxes_Recall/AR@1: 0.542308\n",
      "I0703 16:06:01.922596 133138477803328 model_lib_v2.py:1026] \t+ DetectionBoxes_Recall/AR@1: 0.542308\n",
      "INFO:tensorflow:\t+ DetectionBoxes_Recall/AR@10: 0.627885\n",
      "I0703 16:06:01.923600 133138477803328 model_lib_v2.py:1026] \t+ DetectionBoxes_Recall/AR@10: 0.627885\n",
      "INFO:tensorflow:\t+ DetectionBoxes_Recall/AR@100: 0.650962\n",
      "I0703 16:06:01.924507 133138477803328 model_lib_v2.py:1026] \t+ DetectionBoxes_Recall/AR@100: 0.650962\n",
      "INFO:tensorflow:\t+ DetectionBoxes_Recall/AR@100 (small): 0.577778\n",
      "I0703 16:06:01.925400 133138477803328 model_lib_v2.py:1026] \t+ DetectionBoxes_Recall/AR@100 (small): 0.577778\n",
      "INFO:tensorflow:\t+ DetectionBoxes_Recall/AR@100 (medium): 0.668116\n",
      "I0703 16:06:01.926336 133138477803328 model_lib_v2.py:1026] \t+ DetectionBoxes_Recall/AR@100 (medium): 0.668116\n",
      "INFO:tensorflow:\t+ DetectionBoxes_Recall/AR@100 (large): 0.658824\n",
      "I0703 16:06:01.927559 133138477803328 model_lib_v2.py:1026] \t+ DetectionBoxes_Recall/AR@100 (large): 0.658824\n",
      "INFO:tensorflow:\t+ Loss/localization_loss: 0.168102\n",
      "I0703 16:06:01.928781 133138477803328 model_lib_v2.py:1026] \t+ Loss/localization_loss: 0.168102\n",
      "INFO:tensorflow:\t+ Loss/classification_loss: 0.233396\n",
      "I0703 16:06:01.929662 133138477803328 model_lib_v2.py:1026] \t+ Loss/classification_loss: 0.233396\n",
      "INFO:tensorflow:\t+ Loss/regularization_loss: 0.249225\n",
      "I0703 16:06:01.930554 133138477803328 model_lib_v2.py:1026] \t+ Loss/regularization_loss: 0.249225\n",
      "INFO:tensorflow:\t+ Loss/total_loss: 0.650723\n",
      "I0703 16:06:01.931352 133138477803328 model_lib_v2.py:1026] \t+ Loss/total_loss: 0.650723\n",
      "INFO:tensorflow:Exiting evaluation at step 25000\n",
      "I0703 16:06:01.970522 133138477803328 model_lib_v2.py:1176] Exiting evaluation at step 25000\n"
     ]
    }
   ],
   "source": [
    "!{eval_command}"
   ]
  },
  {
   "cell_type": "markdown",
   "metadata": {},
   "source": [
    "# Wyświetlanie metryk za pomocą TensorBoard\n",
    "Za pierwszym razem na modelu trzeba najpierw przeprowadzić tą ewaluacje u góry"
   ]
  },
  {
   "cell_type": "code",
   "execution_count": 3,
   "metadata": {},
   "outputs": [
    {
     "name": "stdout",
     "output_type": "stream",
     "text": [
      "tensorboard --logdir=TensorFlow/workspace/training_demo/models/my_ssd_resnet50_v1_fpn_3/eval/.\n"
     ]
    }
   ],
   "source": [
    "tensorboard_command = f\"tensorboard --logdir={model_path}/eval/.\"\n",
    "print(tensorboard_command)"
   ]
  },
  {
   "cell_type": "code",
   "execution_count": 4,
   "metadata": {},
   "outputs": [
    {
     "name": "stdout",
     "output_type": "stream",
     "text": [
      "2024-07-03 16:06:04.256836: E external/local_xla/xla/stream_executor/cuda/cuda_dnn.cc:9261] Unable to register cuDNN factory: Attempting to register factory for plugin cuDNN when one has already been registered\n",
      "2024-07-03 16:06:04.256888: E external/local_xla/xla/stream_executor/cuda/cuda_fft.cc:607] Unable to register cuFFT factory: Attempting to register factory for plugin cuFFT when one has already been registered\n",
      "2024-07-03 16:06:04.258131: E external/local_xla/xla/stream_executor/cuda/cuda_blas.cc:1515] Unable to register cuBLAS factory: Attempting to register factory for plugin cuBLAS when one has already been registered\n",
      "2024-07-03 16:06:05.225799: W tensorflow/compiler/tf2tensorrt/utils/py_utils.cc:38] TF-TRT Warning: Could not find TensorRT\n",
      "2024-07-03 16:06:06.156199: I external/local_xla/xla/stream_executor/cuda/cuda_executor.cc:901] successful NUMA node read from SysFS had negative value (-1), but there must be at least one NUMA node, so returning NUMA node zero. See more at https://github.com/torvalds/linux/blob/v6.0/Documentation/ABI/testing/sysfs-bus-pci#L344-L355\n",
      "2024-07-03 16:06:06.187715: I external/local_xla/xla/stream_executor/cuda/cuda_executor.cc:901] successful NUMA node read from SysFS had negative value (-1), but there must be at least one NUMA node, so returning NUMA node zero. See more at https://github.com/torvalds/linux/blob/v6.0/Documentation/ABI/testing/sysfs-bus-pci#L344-L355\n",
      "2024-07-03 16:06:06.187939: I external/local_xla/xla/stream_executor/cuda/cuda_executor.cc:901] successful NUMA node read from SysFS had negative value (-1), but there must be at least one NUMA node, so returning NUMA node zero. See more at https://github.com/torvalds/linux/blob/v6.0/Documentation/ABI/testing/sysfs-bus-pci#L344-L355\n",
      "\n",
      "NOTE: Using experimental fast data loading logic. To disable, pass\n",
      "    \"--load_fast=false\" and report issues on GitHub. More details:\n",
      "    https://github.com/tensorflow/tensorboard/issues/4784\n",
      "\n",
      "Serving TensorBoard on localhost; to expose to the network, use a proxy or pass --bind_all\n",
      "TensorBoard 2.15.2 at http://localhost:6006/ (Press CTRL+C to quit)\n",
      "^C\n"
     ]
    }
   ],
   "source": [
    "!{tensorboard_command}"
   ]
  }
 ],
 "metadata": {
  "kernelspec": {
   "display_name": "tf_od",
   "language": "python",
   "name": "python3"
  },
  "language_info": {
   "codemirror_mode": {
    "name": "ipython",
    "version": 3
   },
   "file_extension": ".py",
   "mimetype": "text/x-python",
   "name": "python",
   "nbconvert_exporter": "python",
   "pygments_lexer": "ipython3",
   "version": "3.9.0"
  }
 },
 "nbformat": 4,
 "nbformat_minor": 2
}
