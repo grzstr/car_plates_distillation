{
 "cells": [
  {
   "cell_type": "markdown",
   "metadata": {},
   "source": [
    "# Ścieżki\n"
   ]
  },
  {
   "cell_type": "code",
   "execution_count": 1,
   "metadata": {},
   "outputs": [],
   "source": [
    "#model_name = \"my_ssd_mobilenet_v1_fpn_640x640_coco17_tpu-8\"\n",
    "#model_name = \"my_ssd_resnet50_v1_fpn_3\"\n",
    "#model_name = \"my_ssd_mobilenet_v1_fpn_640x640_coco17_tpu-8_2\"\n",
    "#model_name = \"my_ssd_mobilenet_v2_fpnlite_640x640_coco17_tpu-8\"\n",
    "#model_name = \"my_ssd_resnet152_v1_fpn_640x640_coco17_tpu-8_8\"\n",
    "#model_name = \"my_ssd_resnet101_v1_fpn_640x640_coco17_tpu-8_2\"\n",
    "#model_name = \"my_ssd_resnet101_v1_fpn_640x640_coco17_tpu-8_3\"\n",
    "#model_name = \"my_efficientdet_d1_coco17_tpu-32\"\n",
    "model_name = \"my_ssd_mobilenet_v1_fpn_640x640_coco17_tpu-8_4\"\n",
    "\n",
    "images_path = f\"TensorFlow/workspace/training_demo/images\"\n",
    "annotations_path = f\"TensorFlow/workspace/training_demo/annotations\"\n",
    "model_path = f\"TensorFlow/workspace/training_demo/models/{model_name}\"\n",
    "exported_model_path = f\"TensorFlow/workspace/training_demo/exported-models/\""
   ]
  },
  {
   "cell_type": "markdown",
   "metadata": {},
   "source": [
    "# Tworzenie TensorFlow Records"
   ]
  },
  {
   "cell_type": "markdown",
   "metadata": {},
   "source": [
    "Tworzenie TFRecords dla train data"
   ]
  },
  {
   "cell_type": "code",
   "execution_count": 2,
   "metadata": {},
   "outputs": [
    {
     "name": "stdout",
     "output_type": "stream",
     "text": [
      "python TensorFlow/scripts/preprocessing/generate_tfrecord.py -x TensorFlow/workspace/training_demo/images/new_data/train -l TensorFlow/workspace/training_demo/annotations/label_map.pbtxt -o TensorFlow/workspace/training_demo/annotations/train.record\n"
     ]
    }
   ],
   "source": [
    "train_command = f\"python TensorFlow/scripts/preprocessing/generate_tfrecord.py -x {images_path}/new_data/train -l {annotations_path}/label_map.pbtxt -o {annotations_path}/train.record\"\n",
    "print(train_command)"
   ]
  },
  {
   "cell_type": "code",
   "execution_count": 3,
   "metadata": {},
   "outputs": [
    {
     "name": "stdout",
     "output_type": "stream",
     "text": [
      "/bin/bash: /home/hapek-wsl/anaconda3/envs/tf_od/lib/libtinfo.so.6: no version information available (required by /bin/bash)\n",
      "2024-07-21 14:22:45.703058: E external/local_xla/xla/stream_executor/cuda/cuda_dnn.cc:9261] Unable to register cuDNN factory: Attempting to register factory for plugin cuDNN when one has already been registered\n",
      "2024-07-21 14:22:45.703150: E external/local_xla/xla/stream_executor/cuda/cuda_fft.cc:607] Unable to register cuFFT factory: Attempting to register factory for plugin cuFFT when one has already been registered\n",
      "2024-07-21 14:22:45.758030: E external/local_xla/xla/stream_executor/cuda/cuda_blas.cc:1515] Unable to register cuBLAS factory: Attempting to register factory for plugin cuBLAS when one has already been registered\n",
      "Successfully created the TFRecord file: TensorFlow/workspace/training_demo/annotations/train.record\n"
     ]
    }
   ],
   "source": [
    "!{train_command}"
   ]
  },
  {
   "cell_type": "markdown",
   "metadata": {},
   "source": [
    "Tworzenie TFRecords dla test data"
   ]
  },
  {
   "cell_type": "code",
   "execution_count": 4,
   "metadata": {},
   "outputs": [
    {
     "name": "stdout",
     "output_type": "stream",
     "text": [
      "python TensorFlow/scripts/preprocessing/generate_tfrecord.py -x TensorFlow/workspace/training_demo/images/new_data/test -l TensorFlow/workspace/training_demo/annotations/label_map.pbtxt -o TensorFlow/workspace/training_demo/annotations/test.record\n"
     ]
    }
   ],
   "source": [
    "test_command = f\"python TensorFlow/scripts/preprocessing/generate_tfrecord.py -x {images_path}/new_data/test -l {annotations_path}/label_map.pbtxt -o {annotations_path}/test.record\"\n",
    "print(test_command)"
   ]
  },
  {
   "cell_type": "code",
   "execution_count": 5,
   "metadata": {},
   "outputs": [
    {
     "name": "stdout",
     "output_type": "stream",
     "text": [
      "/bin/bash: /home/hapek-wsl/anaconda3/envs/tf_od/lib/libtinfo.so.6: no version information available (required by /bin/bash)\n",
      "2024-07-21 14:23:00.409583: E external/local_xla/xla/stream_executor/cuda/cuda_dnn.cc:9261] Unable to register cuDNN factory: Attempting to register factory for plugin cuDNN when one has already been registered\n",
      "2024-07-21 14:23:00.409640: E external/local_xla/xla/stream_executor/cuda/cuda_fft.cc:607] Unable to register cuFFT factory: Attempting to register factory for plugin cuFFT when one has already been registered\n",
      "2024-07-21 14:23:00.410650: E external/local_xla/xla/stream_executor/cuda/cuda_blas.cc:1515] Unable to register cuBLAS factory: Attempting to register factory for plugin cuBLAS when one has already been registered\n",
      "Successfully created the TFRecord file: TensorFlow/workspace/training_demo/annotations/test.record\n"
     ]
    }
   ],
   "source": [
    "!{test_command}"
   ]
  },
  {
   "cell_type": "markdown",
   "metadata": {},
   "source": [
    "Tworzenie TFRecords dla val data"
   ]
  },
  {
   "cell_type": "code",
   "execution_count": 6,
   "metadata": {},
   "outputs": [
    {
     "name": "stdout",
     "output_type": "stream",
     "text": [
      "python TensorFlow/scripts/preprocessing/generate_tfrecord.py -x TensorFlow/workspace/training_demo/images/new_data/val -l TensorFlow/workspace/training_demo/annotations/label_map.pbtxt -o TensorFlow/workspace/training_demo/annotations/val.record\n"
     ]
    }
   ],
   "source": [
    "val_command = f\"python TensorFlow/scripts/preprocessing/generate_tfrecord.py -x {images_path}/new_data/val -l {annotations_path}/label_map.pbtxt -o {annotations_path}/val.record\"\n",
    "print(val_command)"
   ]
  },
  {
   "cell_type": "code",
   "execution_count": 7,
   "metadata": {},
   "outputs": [
    {
     "name": "stdout",
     "output_type": "stream",
     "text": [
      "/bin/bash: /home/hapek-wsl/anaconda3/envs/tf_od/lib/libtinfo.so.6: no version information available (required by /bin/bash)\n",
      "2024-07-21 14:23:09.739640: E external/local_xla/xla/stream_executor/cuda/cuda_dnn.cc:9261] Unable to register cuDNN factory: Attempting to register factory for plugin cuDNN when one has already been registered\n",
      "2024-07-21 14:23:09.739697: E external/local_xla/xla/stream_executor/cuda/cuda_fft.cc:607] Unable to register cuFFT factory: Attempting to register factory for plugin cuFFT when one has already been registered\n",
      "2024-07-21 14:23:09.740730: E external/local_xla/xla/stream_executor/cuda/cuda_blas.cc:1515] Unable to register cuBLAS factory: Attempting to register factory for plugin cuBLAS when one has already been registered\n",
      "Successfully created the TFRecord file: TensorFlow/workspace/training_demo/annotations/val.record\n"
     ]
    }
   ],
   "source": [
    "!{val_command}"
   ]
  },
  {
   "cell_type": "markdown",
   "metadata": {},
   "source": [
    "# Uczenie modelu"
   ]
  },
  {
   "cell_type": "code",
   "execution_count": 8,
   "metadata": {},
   "outputs": [
    {
     "name": "stdout",
     "output_type": "stream",
     "text": [
      "python TensorFlow/workspace/training_demo/model_main_tf2.py --model_dir=TensorFlow/workspace/training_demo/models/my_ssd_mobilenet_v1_fpn_640x640_coco17_tpu-8_4 --pipeline_config_path=TensorFlow/workspace/training_demo/models/my_ssd_mobilenet_v1_fpn_640x640_coco17_tpu-8_4/pipeline.config 2>&1 | tee logs/training/my_ssd_mobilenet_v1_fpn_640x640_coco17_tpu-8_4_training.txt\n"
     ]
    }
   ],
   "source": [
    "train_model_command = f\"python TensorFlow/workspace/training_demo/model_main_tf2.py --model_dir={model_path} --pipeline_config_path={model_path}/pipeline.config 2>&1 | tee logs/training/{model_name}_training.txt\"\n",
    "print(train_model_command)"
   ]
  },
  {
   "cell_type": "code",
   "execution_count": 9,
   "metadata": {},
   "outputs": [
    {
     "name": "stdout",
     "output_type": "stream",
     "text": [
      "/bin/bash: /home/hapek-wsl/anaconda3/envs/tf_od/lib/libtinfo.so.6: no version information available (required by /bin/bash)\n",
      "2024-07-21 14:23:16.737301: E external/local_xla/xla/stream_executor/cuda/cuda_dnn.cc:9261] Unable to register cuDNN factory: Attempting to register factory for plugin cuDNN when one has already been registered\n",
      "2024-07-21 14:23:16.737351: E external/local_xla/xla/stream_executor/cuda/cuda_fft.cc:607] Unable to register cuFFT factory: Attempting to register factory for plugin cuFFT when one has already been registered\n",
      "2024-07-21 14:23:16.738475: E external/local_xla/xla/stream_executor/cuda/cuda_blas.cc:1515] Unable to register cuBLAS factory: Attempting to register factory for plugin cuBLAS when one has already been registered\n",
      "2024-07-21 14:23:16.744756: I tensorflow/core/platform/cpu_feature_guard.cc:182] This TensorFlow binary is optimized to use available CPU instructions in performance-critical operations.\n",
      "To enable the following instructions: AVX2 FMA, in other operations, rebuild TensorFlow with the appropriate compiler flags.\n",
      "2024-07-21 14:23:18.123609: W tensorflow/compiler/tf2tensorrt/utils/py_utils.cc:38] TF-TRT Warning: Could not find TensorRT\n",
      "2024-07-21 14:23:27.031065: I external/local_xla/xla/stream_executor/cuda/cuda_executor.cc:887] could not open file to read NUMA node: /sys/bus/pci/devices/0000:01:00.0/numa_node\n",
      "Your kernel may have been built without NUMA support.\n",
      "2024-07-21 14:23:27.139286: I external/local_xla/xla/stream_executor/cuda/cuda_executor.cc:887] could not open file to read NUMA node: /sys/bus/pci/devices/0000:01:00.0/numa_node\n",
      "Your kernel may have been built without NUMA support.\n",
      "2024-07-21 14:23:27.139527: I external/local_xla/xla/stream_executor/cuda/cuda_executor.cc:887] could not open file to read NUMA node: /sys/bus/pci/devices/0000:01:00.0/numa_node\n",
      "Your kernel may have been built without NUMA support.\n",
      "2024-07-21 14:23:27.295104: I external/local_xla/xla/stream_executor/cuda/cuda_executor.cc:887] could not open file to read NUMA node: /sys/bus/pci/devices/0000:01:00.0/numa_node\n",
      "Your kernel may have been built without NUMA support.\n",
      "2024-07-21 14:23:27.295424: I external/local_xla/xla/stream_executor/cuda/cuda_executor.cc:887] could not open file to read NUMA node: /sys/bus/pci/devices/0000:01:00.0/numa_node\n",
      "Your kernel may have been built without NUMA support.\n",
      "2024-07-21 14:23:27.295556: I external/local_xla/xla/stream_executor/cuda/cuda_executor.cc:887] could not open file to read NUMA node: /sys/bus/pci/devices/0000:01:00.0/numa_node\n",
      "Your kernel may have been built without NUMA support.\n",
      "2024-07-21 14:23:28.812699: I external/local_xla/xla/stream_executor/cuda/cuda_executor.cc:887] could not open file to read NUMA node: /sys/bus/pci/devices/0000:01:00.0/numa_node\n",
      "Your kernel may have been built without NUMA support.\n",
      "2024-07-21 14:23:28.812970: I external/local_xla/xla/stream_executor/cuda/cuda_executor.cc:887] could not open file to read NUMA node: /sys/bus/pci/devices/0000:01:00.0/numa_node\n",
      "Your kernel may have been built without NUMA support.\n",
      "2024-07-21 14:23:28.813001: I tensorflow/core/common_runtime/gpu/gpu_device.cc:2022] Could not identify NUMA node of platform GPU id 0, defaulting to 0.  Your kernel may not have been built with NUMA support.\n",
      "2024-07-21 14:23:28.813136: I external/local_xla/xla/stream_executor/cuda/cuda_executor.cc:887] could not open file to read NUMA node: /sys/bus/pci/devices/0000:01:00.0/numa_node\n",
      "Your kernel may have been built without NUMA support.\n",
      "2024-07-21 14:23:28.813179: I tensorflow/core/common_runtime/gpu/gpu_device.cc:1929] Created device /job:localhost/replica:0/task:0/device:GPU:0 with 2863 MB memory:  -> device: 0, name: NVIDIA GeForce GTX 1050, pci bus id: 0000:01:00.0, compute capability: 6.1\n",
      "INFO:tensorflow:Using MirroredStrategy with devices ('/job:localhost/replica:0/task:0/device:GPU:0',)\n",
      "I0721 14:23:28.817165 139909762504512 mirrored_strategy.py:423] Using MirroredStrategy with devices ('/job:localhost/replica:0/task:0/device:GPU:0',)\n",
      "INFO:tensorflow:Maybe overwriting train_steps: None\n",
      "I0721 14:23:29.038889 139909762504512 config_util.py:552] Maybe overwriting train_steps: None\n",
      "INFO:tensorflow:Maybe overwriting use_bfloat16: False\n",
      "I0721 14:23:29.039061 139909762504512 config_util.py:552] Maybe overwriting use_bfloat16: False\n",
      "WARNING:tensorflow:From /home/hapek-wsl/anaconda3/envs/tf_od/lib/python3.9/site-packages/object_detection/model_lib_v2.py:564: StrategyBase.experimental_distribute_datasets_from_function (from tensorflow.python.distribute.distribute_lib) is deprecated and will be removed in a future version.\n",
      "Instructions for updating:\n",
      "rename to distribute_datasets_from_function\n",
      "W0721 14:23:29.085176 139909762504512 deprecation.py:50] From /home/hapek-wsl/anaconda3/envs/tf_od/lib/python3.9/site-packages/object_detection/model_lib_v2.py:564: StrategyBase.experimental_distribute_datasets_from_function (from tensorflow.python.distribute.distribute_lib) is deprecated and will be removed in a future version.\n",
      "Instructions for updating:\n",
      "rename to distribute_datasets_from_function\n",
      "INFO:tensorflow:Reading unweighted datasets: ['TensorFlow/workspace/training_demo/annotations/train.record']\n",
      "I0721 14:23:29.086037 139909762504512 dataset_builder.py:162] Reading unweighted datasets: ['TensorFlow/workspace/training_demo/annotations/train.record']\n",
      "INFO:tensorflow:Reading record datasets for input file: ['TensorFlow/workspace/training_demo/annotations/train.record']\n",
      "I0721 14:23:29.089350 139909762504512 dataset_builder.py:79] Reading record datasets for input file: ['TensorFlow/workspace/training_demo/annotations/train.record']\n",
      "INFO:tensorflow:Number of filenames to read: 1\n",
      "I0721 14:23:29.089540 139909762504512 dataset_builder.py:80] Number of filenames to read: 1\n",
      "WARNING:tensorflow:num_readers has been reduced to 1 to match input file shards.\n",
      "W0721 14:23:29.089660 139909762504512 dataset_builder.py:86] num_readers has been reduced to 1 to match input file shards.\n",
      "WARNING:tensorflow:From /home/hapek-wsl/anaconda3/envs/tf_od/lib/python3.9/site-packages/object_detection/builders/dataset_builder.py:100: parallel_interleave (from tensorflow.python.data.experimental.ops.interleave_ops) is deprecated and will be removed in a future version.\n",
      "Instructions for updating:\n",
      "Use `tf.data.Dataset.interleave(map_func, cycle_length, block_length, num_parallel_calls=tf.data.AUTOTUNE)` instead. If sloppy execution is desired, use `tf.data.Options.deterministic`.\n",
      "W0721 14:23:29.102104 139909762504512 deprecation.py:50] From /home/hapek-wsl/anaconda3/envs/tf_od/lib/python3.9/site-packages/object_detection/builders/dataset_builder.py:100: parallel_interleave (from tensorflow.python.data.experimental.ops.interleave_ops) is deprecated and will be removed in a future version.\n",
      "Instructions for updating:\n",
      "Use `tf.data.Dataset.interleave(map_func, cycle_length, block_length, num_parallel_calls=tf.data.AUTOTUNE)` instead. If sloppy execution is desired, use `tf.data.Options.deterministic`.\n",
      "WARNING:tensorflow:From /home/hapek-wsl/anaconda3/envs/tf_od/lib/python3.9/site-packages/object_detection/builders/dataset_builder.py:235: DatasetV1.map_with_legacy_function (from tensorflow.python.data.ops.dataset_ops) is deprecated and will be removed in a future version.\n",
      "Instructions for updating:\n",
      "Use `tf.data.Dataset.map()\n",
      "W0721 14:23:29.131966 139909762504512 deprecation.py:50] From /home/hapek-wsl/anaconda3/envs/tf_od/lib/python3.9/site-packages/object_detection/builders/dataset_builder.py:235: DatasetV1.map_with_legacy_function (from tensorflow.python.data.ops.dataset_ops) is deprecated and will be removed in a future version.\n",
      "Instructions for updating:\n",
      "Use `tf.data.Dataset.map()\n",
      "WARNING:tensorflow:From /home/hapek-wsl/anaconda3/envs/tf_od/lib/python3.9/site-packages/tensorflow/python/util/dispatch.py:1260: sparse_to_dense (from tensorflow.python.ops.sparse_ops) is deprecated and will be removed in a future version.\n",
      "Instructions for updating:\n",
      "Create a `tf.sparse.SparseTensor` and use `tf.sparse.to_dense` instead.\n",
      "W0721 14:23:34.697549 139909762504512 deprecation.py:50] From /home/hapek-wsl/anaconda3/envs/tf_od/lib/python3.9/site-packages/tensorflow/python/util/dispatch.py:1260: sparse_to_dense (from tensorflow.python.ops.sparse_ops) is deprecated and will be removed in a future version.\n",
      "Instructions for updating:\n",
      "Create a `tf.sparse.SparseTensor` and use `tf.sparse.to_dense` instead.\n",
      "WARNING:tensorflow:From /home/hapek-wsl/anaconda3/envs/tf_od/lib/python3.9/site-packages/tensorflow/python/util/dispatch.py:1260: sample_distorted_bounding_box (from tensorflow.python.ops.image_ops_impl) is deprecated and will be removed in a future version.\n",
      "Instructions for updating:\n",
      "`seed2` arg is deprecated.Use sample_distorted_bounding_box_v2 instead.\n",
      "W0721 14:23:36.985387 139909762504512 deprecation.py:50] From /home/hapek-wsl/anaconda3/envs/tf_od/lib/python3.9/site-packages/tensorflow/python/util/dispatch.py:1260: sample_distorted_bounding_box (from tensorflow.python.ops.image_ops_impl) is deprecated and will be removed in a future version.\n",
      "Instructions for updating:\n",
      "`seed2` arg is deprecated.Use sample_distorted_bounding_box_v2 instead.\n",
      "WARNING:tensorflow:From /home/hapek-wsl/anaconda3/envs/tf_od/lib/python3.9/site-packages/tensorflow/python/util/dispatch.py:1260: to_float (from tensorflow.python.ops.math_ops) is deprecated and will be removed in a future version.\n",
      "Instructions for updating:\n",
      "Use `tf.cast` instead.\n",
      "W0721 14:23:38.420417 139909762504512 deprecation.py:50] From /home/hapek-wsl/anaconda3/envs/tf_od/lib/python3.9/site-packages/tensorflow/python/util/dispatch.py:1260: to_float (from tensorflow.python.ops.math_ops) is deprecated and will be removed in a future version.\n",
      "Instructions for updating:\n",
      "Use `tf.cast` instead.\n",
      "/home/hapek-wsl/anaconda3/envs/tf_od/lib/python3.9/site-packages/keras/src/backend.py:452: UserWarning: `tf.keras.backend.set_learning_phase` is deprecated and will be removed after 2020-10-11. To update it, simply pass a True/False value to the `training` argument of the `__call__` method of your layer or model.\n",
      "  warnings.warn(\n",
      "I0721 14:23:52.850348 139903600424512 api.py:460] feature_map_spatial_dims: [(80, 80), (40, 40), (20, 20), (10, 10), (5, 5)]\n",
      "I0721 14:23:59.545357 139903600424512 api.py:460] feature_map_spatial_dims: [(80, 80), (40, 40), (20, 20), (10, 10), (5, 5)]\n",
      "2024-07-21 14:24:02.493953: I external/local_xla/xla/stream_executor/cuda/cuda_dnn.cc:454] Loaded cuDNN version 8907\n",
      "I0721 14:24:29.041692 139903600424512 api.py:460] feature_map_spatial_dims: [(80, 80), (40, 40), (20, 20), (10, 10), (5, 5)]\n",
      "I0721 14:24:32.645614 139903600424512 api.py:460] feature_map_spatial_dims: [(80, 80), (40, 40), (20, 20), (10, 10), (5, 5)]\n",
      "I0721 14:24:36.178629 139903600424512 api.py:460] feature_map_spatial_dims: [(80, 80), (40, 40), (20, 20), (10, 10), (5, 5)]\n",
      "I0721 14:24:39.887620 139903600424512 api.py:460] feature_map_spatial_dims: [(80, 80), (40, 40), (20, 20), (10, 10), (5, 5)]\n",
      "INFO:tensorflow:Step 2100 per-step time 3.392s\n",
      "I0721 14:30:07.529400 139909762504512 model_lib_v2.py:712] Step 2100 per-step time 3.392s\n",
      "INFO:tensorflow:{'Loss/classification_loss': 0.18359725,\n",
      " 'Loss/localization_loss': 0.11822505,\n",
      " 'Loss/regularization_loss': 0.7597037,\n",
      " 'Loss/total_loss': 1.0615261,\n",
      " 'learning_rate': 0.039998136}\n",
      "I0721 14:30:07.529855 139909762504512 model_lib_v2.py:715] {'Loss/classification_loss': 0.18359725,\n",
      " 'Loss/localization_loss': 0.11822505,\n",
      " 'Loss/regularization_loss': 0.7597037,\n",
      " 'Loss/total_loss': 1.0615261,\n",
      " 'learning_rate': 0.039998136}\n",
      "INFO:tensorflow:Start Validation\n",
      "I0721 14:30:07.530727 139909762504512 model_lib_v2.py:724] Start Validation\n",
      "INFO:tensorflow:Maybe overwriting sample_1_of_n_eval_examples: None\n",
      "I0721 14:30:07.538031 139909762504512 config_util.py:552] Maybe overwriting sample_1_of_n_eval_examples: None\n",
      "INFO:tensorflow:Maybe overwriting use_bfloat16: False\n",
      "I0721 14:30:07.538194 139909762504512 config_util.py:552] Maybe overwriting use_bfloat16: False\n",
      "INFO:tensorflow:Maybe overwriting train_steps: 25000\n",
      "I0721 14:30:07.538290 139909762504512 config_util.py:552] Maybe overwriting train_steps: 25000\n",
      "INFO:tensorflow:Maybe overwriting eval_num_epochs: 1\n",
      "I0721 14:30:07.538359 139909762504512 config_util.py:552] Maybe overwriting eval_num_epochs: 1\n",
      "INFO:tensorflow:Reading unweighted datasets: ['TensorFlow/workspace/training_demo/annotations/test.record']\n",
      "I0721 14:30:07.585857 139909762504512 dataset_builder.py:162] Reading unweighted datasets: ['TensorFlow/workspace/training_demo/annotations/test.record']\n",
      "INFO:tensorflow:Reading record datasets for input file: ['TensorFlow/workspace/training_demo/annotations/test.record']\n",
      "I0721 14:30:07.587217 139909762504512 dataset_builder.py:79] Reading record datasets for input file: ['TensorFlow/workspace/training_demo/annotations/test.record']\n",
      "INFO:tensorflow:Number of filenames to read: 1\n",
      "I0721 14:30:07.587400 139909762504512 dataset_builder.py:80] Number of filenames to read: 1\n",
      "WARNING:tensorflow:num_readers has been reduced to 1 to match input file shards.\n",
      "W0721 14:30:07.587472 139909762504512 dataset_builder.py:86] num_readers has been reduced to 1 to match input file shards.\n",
      "INFO:tensorflow:Waiting for new checkpoint at TensorFlow/workspace/training_demo/models/my_ssd_mobilenet_v1_fpn_640x640_coco17_tpu-8_4\n",
      "I0721 14:30:08.544630 139909762504512 checkpoint_utils.py:168] Waiting for new checkpoint at TensorFlow/workspace/training_demo/models/my_ssd_mobilenet_v1_fpn_640x640_coco17_tpu-8_4\n",
      "INFO:tensorflow:Found new checkpoint at TensorFlow/workspace/training_demo/models/my_ssd_mobilenet_v1_fpn_640x640_coco17_tpu-8_4/ckpt-4\n",
      "I0721 14:30:08.553021 139909762504512 checkpoint_utils.py:177] Found new checkpoint at TensorFlow/workspace/training_demo/models/my_ssd_mobilenet_v1_fpn_640x640_coco17_tpu-8_4/ckpt-4\n",
      "I0721 14:30:12.711236 139898812094016 api.py:460] feature_map_spatial_dims: [(80, 80), (40, 40), (20, 20), (10, 10), (5, 5)]\n",
      "I0721 14:30:23.430521 139898812094016 api.py:460] feature_map_spatial_dims: [(80, 80), (40, 40), (20, 20), (10, 10), (5, 5)]\n",
      "WARNING:tensorflow:From /home/hapek-wsl/anaconda3/envs/tf_od/lib/python3.9/site-packages/tensorflow/python/util/dispatch.py:1260: to_int64 (from tensorflow.python.ops.math_ops) is deprecated and will be removed in a future version.\n",
      "Instructions for updating:\n",
      "Use `tf.cast` instead.\n",
      "W0721 14:30:46.049404 139909762504512 deprecation.py:50] From /home/hapek-wsl/anaconda3/envs/tf_od/lib/python3.9/site-packages/tensorflow/python/util/dispatch.py:1260: to_int64 (from tensorflow.python.ops.math_ops) is deprecated and will be removed in a future version.\n",
      "Instructions for updating:\n",
      "Use `tf.cast` instead.\n",
      "INFO:tensorflow:Finished eval step 0\n",
      "I0721 14:30:46.085159 139909762504512 model_lib_v2.py:1325] Finished eval step 0\n",
      "WARNING:tensorflow:From /home/hapek-wsl/anaconda3/envs/tf_od/lib/python3.9/site-packages/tensorflow/python/autograph/impl/api.py:460: py_func (from tensorflow.python.ops.script_ops) is deprecated and will be removed in a future version.\n",
      "Instructions for updating:\n",
      "tf.py_func is deprecated in TF V2. Instead, there are two\n",
      "    options available in V2.\n",
      "    - tf.py_function takes a python function which manipulates tf eager\n",
      "    tensors instead of numpy arrays. It's easy to convert a tf eager tensor to\n",
      "    an ndarray (just call tensor.numpy()) but having access to eager tensors\n",
      "    means `tf.py_function`s can use accelerators such as GPUs as well as\n",
      "    being differentiable using a gradient tape.\n",
      "    - tf.numpy_function maintains the semantics of the deprecated tf.py_func\n",
      "    (it is not differentiable, and manipulates numpy arrays). It drops the\n",
      "    stateful argument making all functions stateful.\n",
      "    \n",
      "W0721 14:30:46.245912 139909762504512 deprecation.py:50] From /home/hapek-wsl/anaconda3/envs/tf_od/lib/python3.9/site-packages/tensorflow/python/autograph/impl/api.py:460: py_func (from tensorflow.python.ops.script_ops) is deprecated and will be removed in a future version.\n",
      "Instructions for updating:\n",
      "tf.py_func is deprecated in TF V2. Instead, there are two\n",
      "    options available in V2.\n",
      "    - tf.py_function takes a python function which manipulates tf eager\n",
      "    tensors instead of numpy arrays. It's easy to convert a tf eager tensor to\n",
      "    an ndarray (just call tensor.numpy()) but having access to eager tensors\n",
      "    means `tf.py_function`s can use accelerators such as GPUs as well as\n",
      "    being differentiable using a gradient tape.\n",
      "    - tf.numpy_function maintains the semantics of the deprecated tf.py_func\n",
      "    (it is not differentiable, and manipulates numpy arrays). It drops the\n",
      "    stateful argument making all functions stateful.\n",
      "    \n",
      "INFO:tensorflow:Performing evaluation on 99 images.\n",
      "I0721 14:31:25.937371 139909762504512 coco_evaluation.py:293] Performing evaluation on 99 images.\n",
      "creating index...\n",
      "index created!\n",
      "INFO:tensorflow:Loading and preparing annotation results...\n",
      "I0721 14:31:25.939682 139909762504512 coco_tools.py:116] Loading and preparing annotation results...\n",
      "INFO:tensorflow:DONE (t=0.01s)\n",
      "I0721 14:31:25.945027 139909762504512 coco_tools.py:138] DONE (t=0.01s)\n",
      "creating index...\n",
      "index created!\n",
      "Running per image evaluation...\n",
      "Evaluate annotation type *bbox*\n",
      "DONE (t=0.30s).\n",
      "Accumulating evaluation results...\n",
      "DONE (t=0.08s).\n",
      " Average Precision  (AP) @[ IoU=0.50:0.95 | area=   all | maxDets=100 ] = 0.403\n",
      " Average Precision  (AP) @[ IoU=0.50      | area=   all | maxDets=100 ] = 0.819\n",
      " Average Precision  (AP) @[ IoU=0.75      | area=   all | maxDets=100 ] = 0.304\n",
      " Average Precision  (AP) @[ IoU=0.50:0.95 | area= small | maxDets=100 ] = 0.214\n",
      " Average Precision  (AP) @[ IoU=0.50:0.95 | area=medium | maxDets=100 ] = 0.487\n",
      " Average Precision  (AP) @[ IoU=0.50:0.95 | area= large | maxDets=100 ] = 0.379\n",
      " Average Recall     (AR) @[ IoU=0.50:0.95 | area=   all | maxDets=  1 ] = 0.487\n",
      " Average Recall     (AR) @[ IoU=0.50:0.95 | area=   all | maxDets= 10 ] = 0.571\n",
      " Average Recall     (AR) @[ IoU=0.50:0.95 | area=   all | maxDets=100 ] = 0.610\n",
      " Average Recall     (AR) @[ IoU=0.50:0.95 | area= small | maxDets=100 ] = 0.478\n",
      " Average Recall     (AR) @[ IoU=0.50:0.95 | area=medium | maxDets=100 ] = 0.655\n",
      " Average Recall     (AR) @[ IoU=0.50:0.95 | area= large | maxDets=100 ] = 0.565\n",
      "INFO:tensorflow:Eval metrics at step 2000\n",
      "I0721 14:31:26.342622 139909762504512 model_lib_v2.py:1374] Eval metrics at step 2000\n",
      "INFO:tensorflow:\t+ DetectionBoxes_Precision/mAP: 0.403408\n",
      "I0721 14:31:26.352136 139909762504512 model_lib_v2.py:1377] \t+ DetectionBoxes_Precision/mAP: 0.403408\n",
      "INFO:tensorflow:\t+ DetectionBoxes_Precision/mAP@.50IOU: 0.818608\n",
      "I0721 14:31:26.355035 139909762504512 model_lib_v2.py:1377] \t+ DetectionBoxes_Precision/mAP@.50IOU: 0.818608\n",
      "INFO:tensorflow:\t+ DetectionBoxes_Precision/mAP@.75IOU: 0.304163\n",
      "I0721 14:31:26.358160 139909762504512 model_lib_v2.py:1377] \t+ DetectionBoxes_Precision/mAP@.75IOU: 0.304163\n",
      "INFO:tensorflow:\t+ DetectionBoxes_Precision/mAP (small): 0.213569\n",
      "I0721 14:31:26.361532 139909762504512 model_lib_v2.py:1377] \t+ DetectionBoxes_Precision/mAP (small): 0.213569\n",
      "INFO:tensorflow:\t+ DetectionBoxes_Precision/mAP (medium): 0.487141\n",
      "I0721 14:31:26.364888 139909762504512 model_lib_v2.py:1377] \t+ DetectionBoxes_Precision/mAP (medium): 0.487141\n",
      "INFO:tensorflow:\t+ DetectionBoxes_Precision/mAP (large): 0.378575\n",
      "I0721 14:31:26.368407 139909762504512 model_lib_v2.py:1377] \t+ DetectionBoxes_Precision/mAP (large): 0.378575\n",
      "INFO:tensorflow:\t+ DetectionBoxes_Recall/AR@1: 0.487500\n",
      "I0721 14:31:26.386199 139909762504512 model_lib_v2.py:1377] \t+ DetectionBoxes_Recall/AR@1: 0.487500\n",
      "INFO:tensorflow:\t+ DetectionBoxes_Recall/AR@10: 0.571154\n",
      "I0721 14:31:26.389821 139909762504512 model_lib_v2.py:1377] \t+ DetectionBoxes_Recall/AR@10: 0.571154\n",
      "INFO:tensorflow:\t+ DetectionBoxes_Recall/AR@100: 0.609615\n",
      "I0721 14:31:26.394640 139909762504512 model_lib_v2.py:1377] \t+ DetectionBoxes_Recall/AR@100: 0.609615\n",
      "INFO:tensorflow:\t+ DetectionBoxes_Recall/AR@100 (small): 0.477778\n",
      "I0721 14:31:26.398906 139909762504512 model_lib_v2.py:1377] \t+ DetectionBoxes_Recall/AR@100 (small): 0.477778\n",
      "INFO:tensorflow:\t+ DetectionBoxes_Recall/AR@100 (medium): 0.655072\n",
      "I0721 14:31:26.404161 139909762504512 model_lib_v2.py:1377] \t+ DetectionBoxes_Recall/AR@100 (medium): 0.655072\n",
      "INFO:tensorflow:\t+ DetectionBoxes_Recall/AR@100 (large): 0.564706\n",
      "I0721 14:31:26.407383 139909762504512 model_lib_v2.py:1377] \t+ DetectionBoxes_Recall/AR@100 (large): 0.564706\n",
      "INFO:tensorflow:\t+ Loss/localization_loss: 0.189593\n",
      "I0721 14:31:26.410679 139909762504512 model_lib_v2.py:1377] \t+ Loss/localization_loss: 0.189593\n",
      "INFO:tensorflow:\t+ Loss/classification_loss: 0.270761\n",
      "I0721 14:31:26.414117 139909762504512 model_lib_v2.py:1377] \t+ Loss/classification_loss: 0.270761\n",
      "INFO:tensorflow:\t+ Loss/regularization_loss: 0.761570\n",
      "I0721 14:31:26.417290 139909762504512 model_lib_v2.py:1377] \t+ Loss/regularization_loss: 0.761570\n",
      "INFO:tensorflow:\t+ Loss/total_loss: 1.221924\n",
      "I0721 14:31:26.419949 139909762504512 model_lib_v2.py:1377] \t+ Loss/total_loss: 1.221924\n",
      "INFO:tensorflow:Waiting for new checkpoint at TensorFlow/workspace/training_demo/models/my_ssd_mobilenet_v1_fpn_640x640_coco17_tpu-8_4\n",
      "I0721 14:35:08.651706 139909762504512 checkpoint_utils.py:168] Waiting for new checkpoint at TensorFlow/workspace/training_demo/models/my_ssd_mobilenet_v1_fpn_640x640_coco17_tpu-8_4\n",
      "INFO:tensorflow:Timed-out waiting for a checkpoint.\n",
      "I0721 15:35:07.944752 139909762504512 checkpoint_utils.py:231] Timed-out waiting for a checkpoint.\n",
      "INFO:tensorflow:Step 2200 per-step time 41.651s\n",
      "I0721 15:39:32.611285 139909762504512 model_lib_v2.py:712] Step 2200 per-step time 41.651s\n",
      "INFO:tensorflow:{'Loss/classification_loss': 0.15562047,\n",
      " 'Loss/localization_loss': 0.16701925,\n",
      " 'Loss/regularization_loss': 0.757783,\n",
      " 'Loss/total_loss': 1.0804226,\n",
      " 'learning_rate': 0.039992537}\n",
      "I0721 15:39:32.614162 139909762504512 model_lib_v2.py:715] {'Loss/classification_loss': 0.15562047,\n",
      " 'Loss/localization_loss': 0.16701925,\n",
      " 'Loss/regularization_loss': 0.757783,\n",
      " 'Loss/total_loss': 1.0804226,\n",
      " 'learning_rate': 0.039992537}\n",
      "INFO:tensorflow:Start Validation\n",
      "I0721 15:39:32.615075 139909762504512 model_lib_v2.py:724] Start Validation\n",
      "INFO:tensorflow:Maybe overwriting sample_1_of_n_eval_examples: None\n",
      "I0721 15:39:32.664846 139909762504512 config_util.py:552] Maybe overwriting sample_1_of_n_eval_examples: None\n",
      "INFO:tensorflow:Maybe overwriting use_bfloat16: False\n",
      "I0721 15:39:32.666226 139909762504512 config_util.py:552] Maybe overwriting use_bfloat16: False\n",
      "INFO:tensorflow:Maybe overwriting train_steps: 25000\n",
      "I0721 15:39:32.666641 139909762504512 config_util.py:552] Maybe overwriting train_steps: 25000\n",
      "INFO:tensorflow:Maybe overwriting eval_num_epochs: 1\n",
      "I0721 15:39:32.666806 139909762504512 config_util.py:552] Maybe overwriting eval_num_epochs: 1\n",
      "INFO:tensorflow:Reading unweighted datasets: ['TensorFlow/workspace/training_demo/annotations/test.record']\n",
      "I0721 15:39:32.796678 139909762504512 dataset_builder.py:162] Reading unweighted datasets: ['TensorFlow/workspace/training_demo/annotations/test.record']\n",
      "INFO:tensorflow:Reading record datasets for input file: ['TensorFlow/workspace/training_demo/annotations/test.record']\n",
      "I0721 15:39:32.798505 139909762504512 dataset_builder.py:79] Reading record datasets for input file: ['TensorFlow/workspace/training_demo/annotations/test.record']\n",
      "INFO:tensorflow:Number of filenames to read: 1\n",
      "I0721 15:39:32.798635 139909762504512 dataset_builder.py:80] Number of filenames to read: 1\n",
      "WARNING:tensorflow:num_readers has been reduced to 1 to match input file shards.\n",
      "W0721 15:39:32.798683 139909762504512 dataset_builder.py:86] num_readers has been reduced to 1 to match input file shards.\n",
      "INFO:tensorflow:Waiting for new checkpoint at TensorFlow/workspace/training_demo/models/my_ssd_mobilenet_v1_fpn_640x640_coco17_tpu-8_4\n",
      "I0721 15:39:34.023252 139909762504512 checkpoint_utils.py:168] Waiting for new checkpoint at TensorFlow/workspace/training_demo/models/my_ssd_mobilenet_v1_fpn_640x640_coco17_tpu-8_4\n",
      "INFO:tensorflow:Found new checkpoint at TensorFlow/workspace/training_demo/models/my_ssd_mobilenet_v1_fpn_640x640_coco17_tpu-8_4/ckpt-4\n",
      "I0721 15:39:34.030477 139909762504512 checkpoint_utils.py:177] Found new checkpoint at TensorFlow/workspace/training_demo/models/my_ssd_mobilenet_v1_fpn_640x640_coco17_tpu-8_4/ckpt-4\n",
      "I0721 15:39:40.133054 139898803701312 api.py:460] feature_map_spatial_dims: [(80, 80), (40, 40), (20, 20), (10, 10), (5, 5)]\n",
      "I0721 15:39:47.546782 139898803701312 api.py:460] feature_map_spatial_dims: [(80, 80), (40, 40), (20, 20), (10, 10), (5, 5)]\n",
      "INFO:tensorflow:Finished eval step 0\n",
      "I0721 15:39:51.891119 139909762504512 model_lib_v2.py:1325] Finished eval step 0\n",
      "INFO:tensorflow:Performing evaluation on 99 images.\n",
      "I0721 15:40:26.005520 139909762504512 coco_evaluation.py:293] Performing evaluation on 99 images.\n",
      "creating index...\n",
      "index created!\n",
      "INFO:tensorflow:Loading and preparing annotation results...\n",
      "I0721 15:40:26.008203 139909762504512 coco_tools.py:116] Loading and preparing annotation results...\n",
      "INFO:tensorflow:DONE (t=0.01s)\n",
      "I0721 15:40:26.014681 139909762504512 coco_tools.py:138] DONE (t=0.01s)\n",
      "creating index...\n",
      "index created!\n",
      "Running per image evaluation...\n",
      "Evaluate annotation type *bbox*\n",
      "DONE (t=0.28s).\n",
      "Accumulating evaluation results...\n",
      "DONE (t=0.08s).\n",
      " Average Precision  (AP) @[ IoU=0.50:0.95 | area=   all | maxDets=100 ] = 0.403\n",
      " Average Precision  (AP) @[ IoU=0.50      | area=   all | maxDets=100 ] = 0.819\n",
      " Average Precision  (AP) @[ IoU=0.75      | area=   all | maxDets=100 ] = 0.304\n",
      " Average Precision  (AP) @[ IoU=0.50:0.95 | area= small | maxDets=100 ] = 0.214\n",
      " Average Precision  (AP) @[ IoU=0.50:0.95 | area=medium | maxDets=100 ] = 0.487\n",
      " Average Precision  (AP) @[ IoU=0.50:0.95 | area= large | maxDets=100 ] = 0.379\n",
      " Average Recall     (AR) @[ IoU=0.50:0.95 | area=   all | maxDets=  1 ] = 0.487\n",
      " Average Recall     (AR) @[ IoU=0.50:0.95 | area=   all | maxDets= 10 ] = 0.571\n",
      " Average Recall     (AR) @[ IoU=0.50:0.95 | area=   all | maxDets=100 ] = 0.610\n",
      " Average Recall     (AR) @[ IoU=0.50:0.95 | area= small | maxDets=100 ] = 0.478\n",
      " Average Recall     (AR) @[ IoU=0.50:0.95 | area=medium | maxDets=100 ] = 0.655\n",
      " Average Recall     (AR) @[ IoU=0.50:0.95 | area= large | maxDets=100 ] = 0.565\n",
      "INFO:tensorflow:Eval metrics at step 2000\n",
      "I0721 15:40:26.397403 139909762504512 model_lib_v2.py:1374] Eval metrics at step 2000\n",
      "INFO:tensorflow:\t+ DetectionBoxes_Precision/mAP: 0.403408\n",
      "I0721 15:40:26.399643 139909762504512 model_lib_v2.py:1377] \t+ DetectionBoxes_Precision/mAP: 0.403408\n",
      "INFO:tensorflow:\t+ DetectionBoxes_Precision/mAP@.50IOU: 0.818608\n",
      "I0721 15:40:26.401307 139909762504512 model_lib_v2.py:1377] \t+ DetectionBoxes_Precision/mAP@.50IOU: 0.818608\n",
      "INFO:tensorflow:\t+ DetectionBoxes_Precision/mAP@.75IOU: 0.304163\n",
      "I0721 15:40:26.403095 139909762504512 model_lib_v2.py:1377] \t+ DetectionBoxes_Precision/mAP@.75IOU: 0.304163\n",
      "INFO:tensorflow:\t+ DetectionBoxes_Precision/mAP (small): 0.213569\n",
      "I0721 15:40:26.404812 139909762504512 model_lib_v2.py:1377] \t+ DetectionBoxes_Precision/mAP (small): 0.213569\n",
      "INFO:tensorflow:\t+ DetectionBoxes_Precision/mAP (medium): 0.487141\n",
      "I0721 15:40:26.406522 139909762504512 model_lib_v2.py:1377] \t+ DetectionBoxes_Precision/mAP (medium): 0.487141\n",
      "INFO:tensorflow:\t+ DetectionBoxes_Precision/mAP (large): 0.378575\n",
      "I0721 15:40:26.408305 139909762504512 model_lib_v2.py:1377] \t+ DetectionBoxes_Precision/mAP (large): 0.378575\n",
      "INFO:tensorflow:\t+ DetectionBoxes_Recall/AR@1: 0.487500\n",
      "I0721 15:40:26.416014 139909762504512 model_lib_v2.py:1377] \t+ DetectionBoxes_Recall/AR@1: 0.487500\n",
      "INFO:tensorflow:\t+ DetectionBoxes_Recall/AR@10: 0.571154\n",
      "I0721 15:40:26.418562 139909762504512 model_lib_v2.py:1377] \t+ DetectionBoxes_Recall/AR@10: 0.571154\n",
      "INFO:tensorflow:\t+ DetectionBoxes_Recall/AR@100: 0.609615\n",
      "I0721 15:40:26.420658 139909762504512 model_lib_v2.py:1377] \t+ DetectionBoxes_Recall/AR@100: 0.609615\n",
      "INFO:tensorflow:\t+ DetectionBoxes_Recall/AR@100 (small): 0.477778\n",
      "I0721 15:40:26.423006 139909762504512 model_lib_v2.py:1377] \t+ DetectionBoxes_Recall/AR@100 (small): 0.477778\n",
      "INFO:tensorflow:\t+ DetectionBoxes_Recall/AR@100 (medium): 0.655072\n",
      "I0721 15:40:26.425648 139909762504512 model_lib_v2.py:1377] \t+ DetectionBoxes_Recall/AR@100 (medium): 0.655072\n",
      "INFO:tensorflow:\t+ DetectionBoxes_Recall/AR@100 (large): 0.564706\n",
      "I0721 15:40:26.428084 139909762504512 model_lib_v2.py:1377] \t+ DetectionBoxes_Recall/AR@100 (large): 0.564706\n",
      "INFO:tensorflow:\t+ Loss/localization_loss: 0.189593\n",
      "I0721 15:40:26.429999 139909762504512 model_lib_v2.py:1377] \t+ Loss/localization_loss: 0.189593\n",
      "INFO:tensorflow:\t+ Loss/classification_loss: 0.270761\n",
      "I0721 15:40:26.432834 139909762504512 model_lib_v2.py:1377] \t+ Loss/classification_loss: 0.270761\n",
      "INFO:tensorflow:\t+ Loss/regularization_loss: 0.761570\n",
      "I0721 15:40:26.435102 139909762504512 model_lib_v2.py:1377] \t+ Loss/regularization_loss: 0.761570\n",
      "INFO:tensorflow:\t+ Loss/total_loss: 1.221924\n",
      "I0721 15:40:26.436856 139909762504512 model_lib_v2.py:1377] \t+ Loss/total_loss: 1.221924\n",
      "INFO:tensorflow:Waiting for new checkpoint at TensorFlow/workspace/training_demo/models/my_ssd_mobilenet_v1_fpn_640x640_coco17_tpu-8_4\n",
      "I0721 15:44:34.130868 139909762504512 checkpoint_utils.py:168] Waiting for new checkpoint at TensorFlow/workspace/training_demo/models/my_ssd_mobilenet_v1_fpn_640x640_coco17_tpu-8_4\n",
      "^C\n"
     ]
    }
   ],
   "source": [
    "!{train_model_command}"
   ]
  },
  {
   "cell_type": "markdown",
   "metadata": {},
   "source": [
    "### Monitorowanie procesu uczenia"
   ]
  },
  {
   "cell_type": "code",
   "execution_count": null,
   "metadata": {},
   "outputs": [
    {
     "name": "stdout",
     "output_type": "stream",
     "text": [
      "tensorboard --logdir=TensorFlow/workspace/training_demo/models/my_ssd_mobilenet_v1_fpn_640x640_coco17_tpu-8_4\n"
     ]
    }
   ],
   "source": [
    "tensorboard_command = f\"tensorboard --logdir={model_path}\"\n",
    "print(tensorboard_command)"
   ]
  },
  {
   "cell_type": "code",
   "execution_count": null,
   "metadata": {},
   "outputs": [
    {
     "name": "stdout",
     "output_type": "stream",
     "text": [
      "/bin/bash: /home/hapek-wsl/anaconda3/envs/tf_od/lib/libtinfo.so.6: no version information available (required by /bin/bash)\n",
      "2024-07-21 00:12:55.799859: E external/local_xla/xla/stream_executor/cuda/cuda_dnn.cc:9261] Unable to register cuDNN factory: Attempting to register factory for plugin cuDNN when one has already been registered\n",
      "2024-07-21 00:12:55.799981: E external/local_xla/xla/stream_executor/cuda/cuda_fft.cc:607] Unable to register cuFFT factory: Attempting to register factory for plugin cuFFT when one has already been registered\n",
      "2024-07-21 00:12:55.928834: E external/local_xla/xla/stream_executor/cuda/cuda_blas.cc:1515] Unable to register cuBLAS factory: Attempting to register factory for plugin cuBLAS when one has already been registered\n",
      "2024-07-21 00:12:56.180852: I tensorflow/core/platform/cpu_feature_guard.cc:182] This TensorFlow binary is optimized to use available CPU instructions in performance-critical operations.\n",
      "To enable the following instructions: AVX2 FMA, in other operations, rebuild TensorFlow with the appropriate compiler flags.\n",
      "2024-07-21 00:12:58.373507: W tensorflow/compiler/tf2tensorrt/utils/py_utils.cc:38] TF-TRT Warning: Could not find TensorRT\n",
      "2024-07-21 00:13:01.800538: I external/local_xla/xla/stream_executor/cuda/cuda_executor.cc:887] could not open file to read NUMA node: /sys/bus/pci/devices/0000:01:00.0/numa_node\n",
      "Your kernel may have been built without NUMA support.\n",
      "2024-07-21 00:13:02.051782: I external/local_xla/xla/stream_executor/cuda/cuda_executor.cc:887] could not open file to read NUMA node: /sys/bus/pci/devices/0000:01:00.0/numa_node\n",
      "Your kernel may have been built without NUMA support.\n",
      "2024-07-21 00:13:02.051894: I external/local_xla/xla/stream_executor/cuda/cuda_executor.cc:887] could not open file to read NUMA node: /sys/bus/pci/devices/0000:01:00.0/numa_node\n",
      "Your kernel may have been built without NUMA support.\n",
      "\n",
      "NOTE: Using experimental fast data loading logic. To disable, pass\n",
      "    \"--load_fast=false\" and report issues on GitHub. More details:\n",
      "    https://github.com/tensorflow/tensorboard/issues/4784\n",
      "\n",
      "Serving TensorBoard on localhost; to expose to the network, use a proxy or pass --bind_all\n",
      "TensorBoard 2.15.2 at http://localhost:6006/ (Press CTRL+C to quit)\n",
      "^C\n"
     ]
    }
   ],
   "source": [
    "!{tensorboard_command}"
   ]
  }
 ],
 "metadata": {
  "kernelspec": {
   "display_name": "tf_od",
   "language": "python",
   "name": "python3"
  },
  "language_info": {
   "codemirror_mode": {
    "name": "ipython",
    "version": 3
   },
   "file_extension": ".py",
   "mimetype": "text/x-python",
   "name": "python",
   "nbconvert_exporter": "python",
   "pygments_lexer": "ipython3",
   "version": "3.9.18"
  }
 },
 "nbformat": 4,
 "nbformat_minor": 2
}
