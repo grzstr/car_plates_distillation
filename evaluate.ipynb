{
 "cells": [
  {
   "cell_type": "markdown",
   "metadata": {},
   "source": [
    "# Generowanie metryk\n",
    "To według jakie metryki zostaną użyte zależy od tego co ustawiliśmy w pipeline.config"
   ]
  },
  {
   "cell_type": "code",
   "execution_count": 6,
   "metadata": {},
   "outputs": [
    {
     "name": "stdout",
     "output_type": "stream",
     "text": [
      "python TensorFlow/models/research/object_detection/model_main_tf2.py --model_dir=TensorFlow/workspace/training_demo/models/my_ssd_resnet152_v1_fpn_640x640_coco17_tpu-8_4 --pipeline_config_path=TensorFlow/workspace/training_demo/models/my_ssd_resnet152_v1_fpn_640x640_coco17_tpu-8_4/pipeline.config --checkpoint_dir=TensorFlow/workspace/training_demo/models/my_ssd_resnet152_v1_fpn_640x640_coco17_tpu-8_4\n"
     ]
    }
   ],
   "source": [
    "#model_name = \"my_ssd_mobilenet_v1_fpn_640x640_coco17_tpu-8\"\n",
    "#model_name = \"my_ssd_resnet50_v1_fpn\"\n",
    "#model_name = \"my_ssd_mobilenet_v2_fpnlite_640x640_coco17_tpu-8\"\n",
    "#model_name = \"my_ssd_resnet152_v1_fpn_640x640_coco17_tpu-8\"\n",
    "#model_name = \"my_ssd_resnet101_v1_fpn_640x640_coco17_tpu-8\"\n",
    "#model_name = \"my_ssd_resnet101_v1_fpn_640x640_coco17_tpu-8_2\"\n",
    "model_name = \"my_ssd_resnet152_v1_fpn_640x640_coco17_tpu-8_4\"\n",
    "\n",
    "#model_name = \"my_ssd_resnet50_v1_fpn\"\n",
    "#model_name = \"my_ssd_resnet152_v1_fpn_640x640_coco17_tpu-8_2\"\n",
    "#model_name = \"my_ssd_mobilenet_v2_fpnlite_640x640_coco17_tpu-8\"\n",
    "#model_name = \"my_ssd_mobilenet_v1_fpn_640x640_coco17_tpu-8\"\n",
    "\n",
    "model_path = f\"TensorFlow/workspace/training_demo/models/{model_name}\"\n",
    "\n",
    "eval_command = f\"python TensorFlow/models/research/object_detection/model_main_tf2.py --model_dir={model_path} --pipeline_config_path={model_path}/pipeline.config --checkpoint_dir={model_path}\"\n",
    "print(eval_command)"
   ]
  },
  {
   "cell_type": "code",
   "execution_count": 7,
   "metadata": {},
   "outputs": [
    {
     "name": "stdout",
     "output_type": "stream",
     "text": [
      "/bin/bash: /home/hapek-wsl/anaconda3/envs/tf_od/lib/libtinfo.so.6: no version information available (required by /bin/bash)\n",
      "2024-06-24 19:27:03.210341: E external/local_xla/xla/stream_executor/cuda/cuda_dnn.cc:9261] Unable to register cuDNN factory: Attempting to register factory for plugin cuDNN when one has already been registered\n",
      "2024-06-24 19:27:03.210439: E external/local_xla/xla/stream_executor/cuda/cuda_fft.cc:607] Unable to register cuFFT factory: Attempting to register factory for plugin cuFFT when one has already been registered\n",
      "2024-06-24 19:27:03.211844: E external/local_xla/xla/stream_executor/cuda/cuda_blas.cc:1515] Unable to register cuBLAS factory: Attempting to register factory for plugin cuBLAS when one has already been registered\n",
      "2024-06-24 19:27:03.219227: I tensorflow/core/platform/cpu_feature_guard.cc:182] This TensorFlow binary is optimized to use available CPU instructions in performance-critical operations.\n",
      "To enable the following instructions: AVX2 FMA, in other operations, rebuild TensorFlow with the appropriate compiler flags.\n",
      "2024-06-24 19:27:04.464363: W tensorflow/compiler/tf2tensorrt/utils/py_utils.cc:38] TF-TRT Warning: Could not find TensorRT\n",
      "2024-06-24 19:27:08.893473: I external/local_xla/xla/stream_executor/cuda/cuda_executor.cc:887] could not open file to read NUMA node: /sys/bus/pci/devices/0000:01:00.0/numa_node\n",
      "Your kernel may have been built without NUMA support.\n",
      "2024-06-24 19:27:08.949310: I external/local_xla/xla/stream_executor/cuda/cuda_executor.cc:887] could not open file to read NUMA node: /sys/bus/pci/devices/0000:01:00.0/numa_node\n",
      "Your kernel may have been built without NUMA support.\n",
      "2024-06-24 19:27:08.949524: I external/local_xla/xla/stream_executor/cuda/cuda_executor.cc:887] could not open file to read NUMA node: /sys/bus/pci/devices/0000:01:00.0/numa_node\n",
      "Your kernel may have been built without NUMA support.\n",
      "WARNING:tensorflow:Forced number of epochs for all eval validations to be 1.\n",
      "W0624 19:27:08.970592 140280095561536 model_lib_v2.py:1089] Forced number of epochs for all eval validations to be 1.\n",
      "INFO:tensorflow:Maybe overwriting sample_1_of_n_eval_examples: None\n",
      "I0624 19:27:08.970903 140280095561536 config_util.py:552] Maybe overwriting sample_1_of_n_eval_examples: None\n",
      "INFO:tensorflow:Maybe overwriting use_bfloat16: False\n",
      "I0624 19:27:08.971080 140280095561536 config_util.py:552] Maybe overwriting use_bfloat16: False\n",
      "INFO:tensorflow:Maybe overwriting eval_num_epochs: 1\n",
      "I0624 19:27:08.971248 140280095561536 config_util.py:552] Maybe overwriting eval_num_epochs: 1\n",
      "WARNING:tensorflow:Expected number of evaluation epochs is 1, but instead encountered `eval_on_train_input_config.num_epochs` = 0. Overwriting `num_epochs` to 1.\n",
      "W0624 19:27:08.971575 140280095561536 model_lib_v2.py:1106] Expected number of evaluation epochs is 1, but instead encountered `eval_on_train_input_config.num_epochs` = 0. Overwriting `num_epochs` to 1.\n",
      "2024-06-24 19:27:08.986133: I external/local_xla/xla/stream_executor/cuda/cuda_executor.cc:887] could not open file to read NUMA node: /sys/bus/pci/devices/0000:01:00.0/numa_node\n",
      "Your kernel may have been built without NUMA support.\n",
      "2024-06-24 19:27:08.986515: I external/local_xla/xla/stream_executor/cuda/cuda_executor.cc:887] could not open file to read NUMA node: /sys/bus/pci/devices/0000:01:00.0/numa_node\n",
      "Your kernel may have been built without NUMA support.\n",
      "2024-06-24 19:27:08.986799: I external/local_xla/xla/stream_executor/cuda/cuda_executor.cc:887] could not open file to read NUMA node: /sys/bus/pci/devices/0000:01:00.0/numa_node\n",
      "Your kernel may have been built without NUMA support.\n",
      "2024-06-24 19:27:09.581183: I external/local_xla/xla/stream_executor/cuda/cuda_executor.cc:887] could not open file to read NUMA node: /sys/bus/pci/devices/0000:01:00.0/numa_node\n",
      "Your kernel may have been built without NUMA support.\n",
      "2024-06-24 19:27:09.581440: I external/local_xla/xla/stream_executor/cuda/cuda_executor.cc:887] could not open file to read NUMA node: /sys/bus/pci/devices/0000:01:00.0/numa_node\n",
      "Your kernel may have been built without NUMA support.\n",
      "2024-06-24 19:27:09.581481: I tensorflow/core/common_runtime/gpu/gpu_device.cc:2022] Could not identify NUMA node of platform GPU id 0, defaulting to 0.  Your kernel may not have been built with NUMA support.\n",
      "2024-06-24 19:27:09.581580: I external/local_xla/xla/stream_executor/cuda/cuda_executor.cc:887] could not open file to read NUMA node: /sys/bus/pci/devices/0000:01:00.0/numa_node\n",
      "Your kernel may have been built without NUMA support.\n",
      "2024-06-24 19:27:09.581627: I tensorflow/core/common_runtime/gpu/gpu_device.cc:1929] Created device /job:localhost/replica:0/task:0/device:GPU:0 with 2863 MB memory:  -> device: 0, name: NVIDIA GeForce GTX 1050, pci bus id: 0000:01:00.0, compute capability: 6.1\n",
      "Traceback (most recent call last):\n",
      "  File \"/mnt/e/OneDrive - Politechnika Wroclawska/Magisterka/TensorFlow/models/research/object_detection/model_main_tf2.py\", line 114, in <module>\n",
      "    tf.compat.v1.app.run()\n",
      "  File \"/home/hapek-wsl/anaconda3/envs/tf_od/lib/python3.9/site-packages/tensorflow/python/platform/app.py\", line 36, in run\n",
      "    _run(main=main, argv=argv, flags_parser=_parse_flags_tolerate_undef)\n",
      "  File \"/home/hapek-wsl/anaconda3/envs/tf_od/lib/python3.9/site-packages/absl/app.py\", line 308, in run\n",
      "    _run_main(main, args)\n",
      "  File \"/home/hapek-wsl/anaconda3/envs/tf_od/lib/python3.9/site-packages/absl/app.py\", line 254, in _run_main\n",
      "    sys.exit(main(argv))\n",
      "  File \"/mnt/e/OneDrive - Politechnika Wroclawska/Magisterka/TensorFlow/models/research/object_detection/model_main_tf2.py\", line 81, in main\n",
      "    model_lib_v2.eval_continuously(\n",
      "  File \"/home/hapek-wsl/anaconda3/envs/tf_od/lib/python3.9/site-packages/object_detection/model_lib_v2.py\", line 1123, in eval_continuously\n",
      "    inputs.eval_input(\n",
      "  File \"/home/hapek-wsl/anaconda3/envs/tf_od/lib/python3.9/site-packages/object_detection/inputs.py\", line 1071, in eval_input\n",
      "    dataset = INPUT_BUILDER_UTIL_MAP['dataset_build'](\n",
      "  File \"/home/hapek-wsl/anaconda3/envs/tf_od/lib/python3.9/site-packages/object_detection/builders/dataset_builder.py\", line 209, in build\n",
      "    decoder = decoder_builder.build(input_reader_config)\n",
      "  File \"/home/hapek-wsl/anaconda3/envs/tf_od/lib/python3.9/site-packages/object_detection/builders/decoder_builder.py\", line 51, in build\n",
      "    decoder = tf_example_decoder.TfExampleDecoder(\n",
      "  File \"/home/hapek-wsl/anaconda3/envs/tf_od/lib/python3.9/site-packages/object_detection/data_decoders/tf_example_decoder.py\", line 458, in __init__\n",
      "    _ClassTensorHandler(\n",
      "  File \"/home/hapek-wsl/anaconda3/envs/tf_od/lib/python3.9/site-packages/object_detection/data_decoders/tf_example_decoder.py\", line 92, in __init__\n",
      "    name_to_id = label_map_util.get_label_map_dict(\n",
      "  File \"/home/hapek-wsl/anaconda3/envs/tf_od/lib/python3.9/site-packages/object_detection/utils/label_map_util.py\", line 211, in get_label_map_dict\n",
      "    label_map = load_labelmap(label_map_path_or_proto)\n",
      "  File \"/home/hapek-wsl/anaconda3/envs/tf_od/lib/python3.9/site-packages/object_detection/utils/label_map_util.py\", line 172, in load_labelmap\n",
      "    label_map_string = fid.read()\n",
      "  File \"/home/hapek-wsl/anaconda3/envs/tf_od/lib/python3.9/site-packages/tensorflow/python/lib/io/file_io.py\", line 116, in read\n",
      "    self._preread_check()\n",
      "  File \"/home/hapek-wsl/anaconda3/envs/tf_od/lib/python3.9/site-packages/tensorflow/python/lib/io/file_io.py\", line 77, in _preread_check\n",
      "    self._read_buf = _pywrap_file_io.BufferedInputStream(\n",
      "tensorflow.python.framework.errors_impl.NotFoundError: drive/MyDrive/TF_OD/TensorFlow/workspace/training_demo/annotations/label_map.pbtxt; No such file or directory\n"
     ]
    }
   ],
   "source": [
    "!{eval_command}"
   ]
  },
  {
   "cell_type": "markdown",
   "metadata": {},
   "source": [
    "# Wyświetlanie metryk za pomocą TensorBoard\n",
    "Za pierwszym razem na modelu trzeba najpierw przeprowadzić tą ewaluacje u góry"
   ]
  },
  {
   "cell_type": "code",
   "execution_count": 8,
   "metadata": {},
   "outputs": [
    {
     "name": "stdout",
     "output_type": "stream",
     "text": [
      "tensorboard --logdir=TensorFlow/workspace/training_demo/models/my_ssd_resnet152_v1_fpn_640x640_coco17_tpu-8_4/eval/.\n"
     ]
    }
   ],
   "source": [
    "tensorboard_command = f\"tensorboard --logdir={model_path}/eval/.\"\n",
    "print(tensorboard_command)"
   ]
  },
  {
   "cell_type": "code",
   "execution_count": 9,
   "metadata": {},
   "outputs": [
    {
     "name": "stdout",
     "output_type": "stream",
     "text": [
      "/bin/bash: /home/hapek-wsl/anaconda3/envs/tf_od/lib/libtinfo.so.6: no version information available (required by /bin/bash)\n",
      "2024-06-24 19:27:13.716309: E external/local_xla/xla/stream_executor/cuda/cuda_dnn.cc:9261] Unable to register cuDNN factory: Attempting to register factory for plugin cuDNN when one has already been registered\n",
      "2024-06-24 19:27:13.716377: E external/local_xla/xla/stream_executor/cuda/cuda_fft.cc:607] Unable to register cuFFT factory: Attempting to register factory for plugin cuFFT when one has already been registered\n",
      "2024-06-24 19:27:13.717667: E external/local_xla/xla/stream_executor/cuda/cuda_blas.cc:1515] Unable to register cuBLAS factory: Attempting to register factory for plugin cuBLAS when one has already been registered\n",
      "2024-06-24 19:27:13.724225: I tensorflow/core/platform/cpu_feature_guard.cc:182] This TensorFlow binary is optimized to use available CPU instructions in performance-critical operations.\n",
      "To enable the following instructions: AVX2 FMA, in other operations, rebuild TensorFlow with the appropriate compiler flags.\n",
      "2024-06-24 19:27:14.577595: W tensorflow/compiler/tf2tensorrt/utils/py_utils.cc:38] TF-TRT Warning: Could not find TensorRT\n",
      "2024-06-24 19:27:16.034614: I external/local_xla/xla/stream_executor/cuda/cuda_executor.cc:887] could not open file to read NUMA node: /sys/bus/pci/devices/0000:01:00.0/numa_node\n",
      "Your kernel may have been built without NUMA support.\n",
      "2024-06-24 19:27:16.100387: I external/local_xla/xla/stream_executor/cuda/cuda_executor.cc:887] could not open file to read NUMA node: /sys/bus/pci/devices/0000:01:00.0/numa_node\n",
      "Your kernel may have been built without NUMA support.\n",
      "2024-06-24 19:27:16.100608: I external/local_xla/xla/stream_executor/cuda/cuda_executor.cc:887] could not open file to read NUMA node: /sys/bus/pci/devices/0000:01:00.0/numa_node\n",
      "Your kernel may have been built without NUMA support.\n",
      "\n",
      "NOTE: Using experimental fast data loading logic. To disable, pass\n",
      "    \"--load_fast=false\" and report issues on GitHub. More details:\n",
      "    https://github.com/tensorflow/tensorboard/issues/4784\n",
      "\n",
      "Serving TensorBoard on localhost; to expose to the network, use a proxy or pass --bind_all\n",
      "TensorBoard 2.15.2 at http://localhost:6007/ (Press CTRL+C to quit)\n"
     ]
    }
   ],
   "source": [
    "!{tensorboard_command}"
   ]
  }
 ],
 "metadata": {
  "kernelspec": {
   "display_name": "tf_od",
   "language": "python",
   "name": "python3"
  },
  "language_info": {
   "codemirror_mode": {
    "name": "ipython",
    "version": 3
   },
   "file_extension": ".py",
   "mimetype": "text/x-python",
   "name": "python",
   "nbconvert_exporter": "python",
   "pygments_lexer": "ipython3",
   "version": "3.9.18"
  }
 },
 "nbformat": 4,
 "nbformat_minor": 2
}
