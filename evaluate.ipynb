{
 "cells": [
  {
   "cell_type": "markdown",
   "metadata": {},
   "source": [
    "# Generowanie metryk\n",
    "To według jakie metryki zostaną użyte zależy od tego co ustawiliśmy w pipeline.config"
   ]
  },
  {
   "cell_type": "code",
   "execution_count": 4,
   "metadata": {},
   "outputs": [
    {
     "name": "stdout",
     "output_type": "stream",
     "text": [
      "python TensorFlow/models/research/object_detection/model_main_tf2.py --model_dir=TensorFlow/workspace/training_demo/models/my_ssd_mobilenet_v1_fpn_640x640_coco17_tpu-8 --pipeline_config_path=TensorFlow/workspace/training_demo/models/my_ssd_mobilenet_v1_fpn_640x640_coco17_tpu-8/pipeline.config --checkpoint_dir=TensorFlow/workspace/training_demo/models/my_ssd_mobilenet_v1_fpn_640x640_coco17_tpu-8\n"
     ]
    }
   ],
   "source": [
    "model_name = \"my_ssd_mobilenet_v1_fpn_640x640_coco17_tpu-8\"\n",
    "#model_name = \"my_ssd_resnet50_v1_fpn\"\n",
    "#model_name = \"my_ssd_mobilenet_v2_fpnlite_640x640_coco17_tpu-8\"\n",
    "#model_name = \"my_ssd_resnet152_v1_fpn_640x640_coco17_tpu-8\"\n",
    "#model_name = \"my_ssd_resnet101_v1_fpn_640x640_coco17_tpu-8\"\n",
    "#model_name = \"my_ssd_resnet101_v1_fpn_640x640_coco17_tpu-8_2\"\n",
    "\n",
    "\n",
    "\n",
    "model_path = f\"TensorFlow/workspace/training_demo/models/{model_name}\"\n",
    "\n",
    "eval_command = f\"python TensorFlow/models/research/object_detection/model_main_tf2.py --model_dir={model_path} --pipeline_config_path={model_path}/pipeline.config --checkpoint_dir={model_path}\"\n",
    "print(eval_command)"
   ]
  },
  {
   "cell_type": "code",
   "execution_count": 5,
   "metadata": {},
   "outputs": [
    {
     "name": "stdout",
     "output_type": "stream",
     "text": [
      "/bin/bash: /home/hapek-wsl/anaconda3/envs/tf_od/lib/libtinfo.so.6: no version information available (required by /bin/bash)\n",
      "2024-05-23 14:57:45.780056: E external/local_xla/xla/stream_executor/cuda/cuda_dnn.cc:9261] Unable to register cuDNN factory: Attempting to register factory for plugin cuDNN when one has already been registered\n",
      "2024-05-23 14:57:45.780127: E external/local_xla/xla/stream_executor/cuda/cuda_fft.cc:607] Unable to register cuFFT factory: Attempting to register factory for plugin cuFFT when one has already been registered\n",
      "2024-05-23 14:57:45.781540: E external/local_xla/xla/stream_executor/cuda/cuda_blas.cc:1515] Unable to register cuBLAS factory: Attempting to register factory for plugin cuBLAS when one has already been registered\n",
      "2024-05-23 14:57:45.787555: I tensorflow/core/platform/cpu_feature_guard.cc:182] This TensorFlow binary is optimized to use available CPU instructions in performance-critical operations.\n",
      "To enable the following instructions: AVX2 FMA, in other operations, rebuild TensorFlow with the appropriate compiler flags.\n",
      "2024-05-23 14:57:46.777598: W tensorflow/compiler/tf2tensorrt/utils/py_utils.cc:38] TF-TRT Warning: Could not find TensorRT\n",
      "2024-05-23 14:57:48.998056: I external/local_xla/xla/stream_executor/cuda/cuda_executor.cc:887] could not open file to read NUMA node: /sys/bus/pci/devices/0000:01:00.0/numa_node\n",
      "Your kernel may have been built without NUMA support.\n",
      "2024-05-23 14:57:49.283166: I external/local_xla/xla/stream_executor/cuda/cuda_executor.cc:887] could not open file to read NUMA node: /sys/bus/pci/devices/0000:01:00.0/numa_node\n",
      "Your kernel may have been built without NUMA support.\n",
      "2024-05-23 14:57:49.283268: I external/local_xla/xla/stream_executor/cuda/cuda_executor.cc:887] could not open file to read NUMA node: /sys/bus/pci/devices/0000:01:00.0/numa_node\n",
      "Your kernel may have been built without NUMA support.\n",
      "WARNING:tensorflow:Forced number of epochs for all eval validations to be 1.\n",
      "W0523 14:57:49.290187 140458559055680 model_lib_v2.py:1089] Forced number of epochs for all eval validations to be 1.\n",
      "INFO:tensorflow:Maybe overwriting sample_1_of_n_eval_examples: None\n",
      "I0523 14:57:49.290401 140458559055680 config_util.py:552] Maybe overwriting sample_1_of_n_eval_examples: None\n",
      "INFO:tensorflow:Maybe overwriting use_bfloat16: False\n",
      "I0523 14:57:49.290483 140458559055680 config_util.py:552] Maybe overwriting use_bfloat16: False\n",
      "INFO:tensorflow:Maybe overwriting eval_num_epochs: 1\n",
      "I0523 14:57:49.290559 140458559055680 config_util.py:552] Maybe overwriting eval_num_epochs: 1\n",
      "WARNING:tensorflow:Expected number of evaluation epochs is 1, but instead encountered `eval_on_train_input_config.num_epochs` = 0. Overwriting `num_epochs` to 1.\n",
      "W0523 14:57:49.290657 140458559055680 model_lib_v2.py:1106] Expected number of evaluation epochs is 1, but instead encountered `eval_on_train_input_config.num_epochs` = 0. Overwriting `num_epochs` to 1.\n",
      "2024-05-23 14:57:49.295575: I external/local_xla/xla/stream_executor/cuda/cuda_executor.cc:887] could not open file to read NUMA node: /sys/bus/pci/devices/0000:01:00.0/numa_node\n",
      "Your kernel may have been built without NUMA support.\n",
      "2024-05-23 14:57:49.295740: I external/local_xla/xla/stream_executor/cuda/cuda_executor.cc:887] could not open file to read NUMA node: /sys/bus/pci/devices/0000:01:00.0/numa_node\n",
      "Your kernel may have been built without NUMA support.\n",
      "2024-05-23 14:57:49.295823: I external/local_xla/xla/stream_executor/cuda/cuda_executor.cc:887] could not open file to read NUMA node: /sys/bus/pci/devices/0000:01:00.0/numa_node\n",
      "Your kernel may have been built without NUMA support.\n",
      "2024-05-23 14:57:49.389734: I external/local_xla/xla/stream_executor/cuda/cuda_executor.cc:887] could not open file to read NUMA node: /sys/bus/pci/devices/0000:01:00.0/numa_node\n",
      "Your kernel may have been built without NUMA support.\n",
      "2024-05-23 14:57:49.389873: I external/local_xla/xla/stream_executor/cuda/cuda_executor.cc:887] could not open file to read NUMA node: /sys/bus/pci/devices/0000:01:00.0/numa_node\n",
      "Your kernel may have been built without NUMA support.\n",
      "2024-05-23 14:57:49.389910: I tensorflow/core/common_runtime/gpu/gpu_device.cc:2022] Could not identify NUMA node of platform GPU id 0, defaulting to 0.  Your kernel may not have been built with NUMA support.\n",
      "2024-05-23 14:57:49.389978: I external/local_xla/xla/stream_executor/cuda/cuda_executor.cc:887] could not open file to read NUMA node: /sys/bus/pci/devices/0000:01:00.0/numa_node\n",
      "Your kernel may have been built without NUMA support.\n",
      "2024-05-23 14:57:49.390021: I tensorflow/core/common_runtime/gpu/gpu_device.cc:1929] Created device /job:localhost/replica:0/task:0/device:GPU:0 with 2863 MB memory:  -> device: 0, name: NVIDIA GeForce GTX 1050, pci bus id: 0000:01:00.0, compute capability: 6.1\n",
      "INFO:tensorflow:Reading unweighted datasets: ['TensorFlow/workspace/training_demo/annotations/test.record']\n",
      "I0523 14:57:49.595054 140458559055680 dataset_builder.py:162] Reading unweighted datasets: ['TensorFlow/workspace/training_demo/annotations/test.record']\n",
      "INFO:tensorflow:Reading record datasets for input file: ['TensorFlow/workspace/training_demo/annotations/test.record']\n",
      "I0523 14:57:49.597954 140458559055680 dataset_builder.py:79] Reading record datasets for input file: ['TensorFlow/workspace/training_demo/annotations/test.record']\n",
      "INFO:tensorflow:Number of filenames to read: 1\n",
      "I0523 14:57:49.598145 140458559055680 dataset_builder.py:80] Number of filenames to read: 1\n",
      "WARNING:tensorflow:num_readers has been reduced to 1 to match input file shards.\n",
      "W0523 14:57:49.598241 140458559055680 dataset_builder.py:86] num_readers has been reduced to 1 to match input file shards.\n",
      "WARNING:tensorflow:From /home/hapek-wsl/anaconda3/envs/tf_od/lib/python3.9/site-packages/object_detection/builders/dataset_builder.py:100: parallel_interleave (from tensorflow.python.data.experimental.ops.interleave_ops) is deprecated and will be removed in a future version.\n",
      "Instructions for updating:\n",
      "Use `tf.data.Dataset.interleave(map_func, cycle_length, block_length, num_parallel_calls=tf.data.AUTOTUNE)` instead. If sloppy execution is desired, use `tf.data.Options.deterministic`.\n",
      "W0523 14:57:49.603588 140458559055680 deprecation.py:50] From /home/hapek-wsl/anaconda3/envs/tf_od/lib/python3.9/site-packages/object_detection/builders/dataset_builder.py:100: parallel_interleave (from tensorflow.python.data.experimental.ops.interleave_ops) is deprecated and will be removed in a future version.\n",
      "Instructions for updating:\n",
      "Use `tf.data.Dataset.interleave(map_func, cycle_length, block_length, num_parallel_calls=tf.data.AUTOTUNE)` instead. If sloppy execution is desired, use `tf.data.Options.deterministic`.\n",
      "WARNING:tensorflow:From /home/hapek-wsl/anaconda3/envs/tf_od/lib/python3.9/site-packages/object_detection/builders/dataset_builder.py:235: DatasetV1.map_with_legacy_function (from tensorflow.python.data.ops.dataset_ops) is deprecated and will be removed in a future version.\n",
      "Instructions for updating:\n",
      "Use `tf.data.Dataset.map()\n",
      "W0523 14:57:49.626107 140458559055680 deprecation.py:50] From /home/hapek-wsl/anaconda3/envs/tf_od/lib/python3.9/site-packages/object_detection/builders/dataset_builder.py:235: DatasetV1.map_with_legacy_function (from tensorflow.python.data.ops.dataset_ops) is deprecated and will be removed in a future version.\n",
      "Instructions for updating:\n",
      "Use `tf.data.Dataset.map()\n",
      "WARNING:tensorflow:From /home/hapek-wsl/anaconda3/envs/tf_od/lib/python3.9/site-packages/tensorflow/python/util/dispatch.py:1260: sparse_to_dense (from tensorflow.python.ops.sparse_ops) is deprecated and will be removed in a future version.\n",
      "Instructions for updating:\n",
      "Create a `tf.sparse.SparseTensor` and use `tf.sparse.to_dense` instead.\n",
      "W0523 14:57:52.572184 140458559055680 deprecation.py:50] From /home/hapek-wsl/anaconda3/envs/tf_od/lib/python3.9/site-packages/tensorflow/python/util/dispatch.py:1260: sparse_to_dense (from tensorflow.python.ops.sparse_ops) is deprecated and will be removed in a future version.\n",
      "Instructions for updating:\n",
      "Create a `tf.sparse.SparseTensor` and use `tf.sparse.to_dense` instead.\n",
      "WARNING:tensorflow:From /home/hapek-wsl/anaconda3/envs/tf_od/lib/python3.9/site-packages/tensorflow/python/util/dispatch.py:1260: to_float (from tensorflow.python.ops.math_ops) is deprecated and will be removed in a future version.\n",
      "Instructions for updating:\n",
      "Use `tf.cast` instead.\n",
      "W0523 14:57:53.435578 140458559055680 deprecation.py:50] From /home/hapek-wsl/anaconda3/envs/tf_od/lib/python3.9/site-packages/tensorflow/python/util/dispatch.py:1260: to_float (from tensorflow.python.ops.math_ops) is deprecated and will be removed in a future version.\n",
      "Instructions for updating:\n",
      "Use `tf.cast` instead.\n",
      "INFO:tensorflow:Waiting for new checkpoint at TensorFlow/workspace/training_demo/models/my_ssd_mobilenet_v1_fpn_640x640_coco17_tpu-8\n",
      "I0523 14:57:55.387919 140458559055680 checkpoint_utils.py:168] Waiting for new checkpoint at TensorFlow/workspace/training_demo/models/my_ssd_mobilenet_v1_fpn_640x640_coco17_tpu-8\n",
      "INFO:tensorflow:Found new checkpoint at TensorFlow/workspace/training_demo/models/my_ssd_mobilenet_v1_fpn_640x640_coco17_tpu-8/ckpt-26\n",
      "I0523 14:57:55.404139 140458559055680 checkpoint_utils.py:177] Found new checkpoint at TensorFlow/workspace/training_demo/models/my_ssd_mobilenet_v1_fpn_640x640_coco17_tpu-8/ckpt-26\n",
      "/home/hapek-wsl/anaconda3/envs/tf_od/lib/python3.9/site-packages/keras/src/backend.py:452: UserWarning: `tf.keras.backend.set_learning_phase` is deprecated and will be removed after 2020-10-11. To update it, simply pass a True/False value to the `training` argument of the `__call__` method of your layer or model.\n",
      "  warnings.warn(\n",
      "I0523 14:57:59.602955 140458559055680 api.py:460] feature_map_spatial_dims: [(80, 80), (40, 40), (20, 20), (10, 10), (5, 5)]\n",
      "I0523 14:58:12.380709 140458559055680 api.py:460] feature_map_spatial_dims: [(80, 80), (40, 40), (20, 20), (10, 10), (5, 5)]\n",
      "2024-05-23 14:58:15.497567: I external/local_xla/xla/stream_executor/cuda/cuda_dnn.cc:454] Loaded cuDNN version 8907\n",
      "WARNING:tensorflow:From /home/hapek-wsl/anaconda3/envs/tf_od/lib/python3.9/site-packages/tensorflow/python/util/dispatch.py:1260: to_int64 (from tensorflow.python.ops.math_ops) is deprecated and will be removed in a future version.\n",
      "Instructions for updating:\n",
      "Use `tf.cast` instead.\n",
      "W0523 14:58:20.867826 140458559055680 deprecation.py:50] From /home/hapek-wsl/anaconda3/envs/tf_od/lib/python3.9/site-packages/tensorflow/python/util/dispatch.py:1260: to_int64 (from tensorflow.python.ops.math_ops) is deprecated and will be removed in a future version.\n",
      "Instructions for updating:\n",
      "Use `tf.cast` instead.\n",
      "INFO:tensorflow:Finished eval step 0\n",
      "I0523 14:58:20.904563 140458559055680 model_lib_v2.py:966] Finished eval step 0\n",
      "WARNING:tensorflow:From /home/hapek-wsl/anaconda3/envs/tf_od/lib/python3.9/site-packages/tensorflow/python/autograph/impl/api.py:460: py_func (from tensorflow.python.ops.script_ops) is deprecated and will be removed in a future version.\n",
      "Instructions for updating:\n",
      "tf.py_func is deprecated in TF V2. Instead, there are two\n",
      "    options available in V2.\n",
      "    - tf.py_function takes a python function which manipulates tf eager\n",
      "    tensors instead of numpy arrays. It's easy to convert a tf eager tensor to\n",
      "    an ndarray (just call tensor.numpy()) but having access to eager tensors\n",
      "    means `tf.py_function`s can use accelerators such as GPUs as well as\n",
      "    being differentiable using a gradient tape.\n",
      "    - tf.numpy_function maintains the semantics of the deprecated tf.py_func\n",
      "    (it is not differentiable, and manipulates numpy arrays). It drops the\n",
      "    stateful argument making all functions stateful.\n",
      "    \n",
      "W0523 14:58:21.034754 140458559055680 deprecation.py:50] From /home/hapek-wsl/anaconda3/envs/tf_od/lib/python3.9/site-packages/tensorflow/python/autograph/impl/api.py:460: py_func (from tensorflow.python.ops.script_ops) is deprecated and will be removed in a future version.\n",
      "Instructions for updating:\n",
      "tf.py_func is deprecated in TF V2. Instead, there are two\n",
      "    options available in V2.\n",
      "    - tf.py_function takes a python function which manipulates tf eager\n",
      "    tensors instead of numpy arrays. It's easy to convert a tf eager tensor to\n",
      "    an ndarray (just call tensor.numpy()) but having access to eager tensors\n",
      "    means `tf.py_function`s can use accelerators such as GPUs as well as\n",
      "    being differentiable using a gradient tape.\n",
      "    - tf.numpy_function maintains the semantics of the deprecated tf.py_func\n",
      "    (it is not differentiable, and manipulates numpy arrays). It drops the\n",
      "    stateful argument making all functions stateful.\n",
      "    \n",
      "I0523 14:58:24.820245 140458559055680 object_detection_evaluation.py:1416] class 0 average_precision: 0.010436\n",
      "INFO:tensorflow:Eval metrics at step 25000\n",
      "I0523 14:58:24.829799 140458559055680 model_lib_v2.py:1015] Eval metrics at step 25000\n",
      "INFO:tensorflow:\t+ OpenImagesV2_Precision/mAP@0.5IOU: 0.010436\n",
      "I0523 14:58:24.849833 140458559055680 model_lib_v2.py:1018] \t+ OpenImagesV2_Precision/mAP@0.5IOU: 0.010436\n",
      "INFO:tensorflow:\t+ OpenImagesV2_PerformanceByCategory/AP@0.5IOU/licence: 0.010436\n",
      "I0523 14:58:24.851337 140458559055680 model_lib_v2.py:1018] \t+ OpenImagesV2_PerformanceByCategory/AP@0.5IOU/licence: 0.010436\n",
      "INFO:tensorflow:\t+ Loss/localization_loss: 0.118527\n",
      "I0523 14:58:24.852511 140458559055680 model_lib_v2.py:1018] \t+ Loss/localization_loss: 0.118527\n",
      "INFO:tensorflow:\t+ Loss/classification_loss: 0.348654\n",
      "I0523 14:58:24.853755 140458559055680 model_lib_v2.py:1018] \t+ Loss/classification_loss: 0.348654\n",
      "INFO:tensorflow:\t+ Loss/regularization_loss: 0.549784\n",
      "I0523 14:58:24.856287 140458559055680 model_lib_v2.py:1018] \t+ Loss/regularization_loss: 0.549784\n",
      "INFO:tensorflow:\t+ Loss/total_loss: 1.016966\n",
      "I0523 14:58:24.858703 140458559055680 model_lib_v2.py:1018] \t+ Loss/total_loss: 1.016966\n",
      "INFO:tensorflow:Exiting evaluation at step 25000\n",
      "I0523 14:58:24.889815 140458559055680 model_lib_v2.py:1168] Exiting evaluation at step 25000\n"
     ]
    }
   ],
   "source": [
    "!{eval_command}"
   ]
  },
  {
   "cell_type": "markdown",
   "metadata": {},
   "source": [
    "# Wyświetlanie metryk za pomocą TensorBoard\n",
    "Za pierwszym razem na modelu trzeba najpierw przeprowadzić tą ewaluacje u góry"
   ]
  },
  {
   "cell_type": "code",
   "execution_count": 6,
   "metadata": {},
   "outputs": [
    {
     "name": "stdout",
     "output_type": "stream",
     "text": [
      "tensorboard --logdir=TensorFlow/workspace/training_demo/models/my_ssd_mobilenet_v1_fpn_640x640_coco17_tpu-8/eval/.\n"
     ]
    }
   ],
   "source": [
    "tensorboard_command = f\"tensorboard --logdir={model_path}/eval/.\"\n",
    "print(tensorboard_command)"
   ]
  },
  {
   "cell_type": "code",
   "execution_count": 18,
   "metadata": {},
   "outputs": [],
   "source": [
    "#!{tensorboard_command}"
   ]
  }
 ],
 "metadata": {
  "kernelspec": {
   "display_name": "tf_od",
   "language": "python",
   "name": "python3"
  },
  "language_info": {
   "codemirror_mode": {
    "name": "ipython",
    "version": 3
   },
   "file_extension": ".py",
   "mimetype": "text/x-python",
   "name": "python",
   "nbconvert_exporter": "python",
   "pygments_lexer": "ipython3",
   "version": "3.9.18"
  }
 },
 "nbformat": 4,
 "nbformat_minor": 2
}
